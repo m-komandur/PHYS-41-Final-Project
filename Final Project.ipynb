{
 "cells": [
  {
   "cell_type": "markdown",
   "id": "7d8ba67f",
   "metadata": {},
   "source": [
    "## This is a game in which the player attempts to guess a randomly generated sequence of colors within a set number of attempts."
   ]
  },
  {
   "cell_type": "markdown",
   "id": "23a360e0",
   "metadata": {},
   "source": [
    "First, to generate a random set of colors I used `np.random.randint` to generate an **array of random integers.**"
   ]
  },
  {
   "cell_type": "code",
   "execution_count": 1,
   "id": "42b55682",
   "metadata": {},
   "outputs": [
    {
     "name": "stdout",
     "output_type": "stream",
     "text": [
      "[3 3 2 1]\n"
     ]
    }
   ],
   "source": [
    "import numpy as np\n",
    "\n",
    "rawSet = np.random.randint(4, size = 4)\n",
    "print(rawSet)"
   ]
  },
  {
   "cell_type": "markdown",
   "id": "0033e3cf",
   "metadata": {},
   "source": [
    "In this case, I determined the size of the array myself just to make it easier for the rest of code, where I need to display the generated sequence. "
   ]
  },
  {
   "cell_type": "markdown",
   "id": "b660e28e",
   "metadata": {},
   "source": [
    "Then, I **created a function** consisting of a `for` loop and a series of `if-else` statements to assign a color to each number in that array. This function takes an array as input, assigns each element in that array to a color, and appends those colors to an empty list. "
   ]
  },
  {
   "cell_type": "code",
   "execution_count": 2,
   "id": "05258c8f",
   "metadata": {},
   "outputs": [],
   "source": [
    "colorSet = []\n",
    "def assignColors(numArray):\n",
    "    for i in range(len(numArray)):\n",
    "        if numArray[i] == 0:\n",
    "            colorSet.append('blue')\n",
    "        elif numArray[i] == 1:\n",
    "            colorSet.append('red')\n",
    "        elif numArray[i] == 2:\n",
    "            colorSet.append('yellow')\n",
    "        elif numArray[i] == 3:\n",
    "            colorSet.append('green')\n",
    "        \n",
    "        \n",
    "    return colorSet"
   ]
  },
  {
   "cell_type": "code",
   "execution_count": 3,
   "id": "a855da5f",
   "metadata": {},
   "outputs": [
    {
     "data": {
      "text/plain": [
       "['green', 'green', 'yellow', 'red']"
      ]
     },
     "execution_count": 3,
     "metadata": {},
     "output_type": "execute_result"
    }
   ],
   "source": [
    "assignColors(rawSet)"
   ]
  },
  {
   "cell_type": "markdown",
   "id": "b88437da",
   "metadata": {},
   "source": [
    "Next, I used a `for` loop to take the player's inputs (or guesses) and stored the guesses as a list. "
   ]
  },
  {
   "cell_type": "code",
   "execution_count": 4,
   "id": "004d6f98",
   "metadata": {},
   "outputs": [
    {
     "name": "stdout",
     "output_type": "stream",
     "text": [
      "Enter a color: yellow\n",
      "Enter a color: green\n",
      "Enter a color: red\n",
      "Enter a color: blue\n",
      "['yellow', 'green', 'red', 'blue']\n"
     ]
    }
   ],
   "source": [
    "inputs = []\n",
    "for j in range(len(rawSet)):\n",
    "    guess = input('Enter a color: ')\n",
    "    inputs.append(guess)\n",
    "    j+=1\n",
    "print(inputs)"
   ]
  },
  {
   "cell_type": "markdown",
   "id": "e22c33d4",
   "metadata": {},
   "source": [
    "To tell the player which of their colors were correct, which ones are involved in the correct answer but were entered in the wrong place in the sequence, and which colors from their guess are not involved in the correct sequence, I used a `for` loop with some `if-else` statements inside it that **compares the list of user's input with the list of colors we randomly generated.** "
   ]
  },
  {
   "cell_type": "code",
   "execution_count": 5,
   "id": "dbfd18ea",
   "metadata": {},
   "outputs": [
    {
     "name": "stdout",
     "output_type": "stream",
     "text": [
      "color exists in list, but in wrong place\n",
      "correct color, correct place\n",
      "color exists in list, but in wrong place\n",
      "color does not exist in list\n"
     ]
    }
   ],
   "source": [
    "for k in range(len(rawSet)):\n",
    "    if colorSet[k] == inputs[k]:\n",
    "        print('correct color, correct place')\n",
    "        k+=1\n",
    "    elif colorSet[k] != inputs[k]:\n",
    "        if inputs[k] in colorSet:\n",
    "            print('color exists in list, but in wrong place')\n",
    "        else:\n",
    "            print('color does not exist in list')\n",
    "        k+=1"
   ]
  },
  {
   "cell_type": "markdown",
   "id": "90c8a038",
   "metadata": {},
   "source": [
    "To do the same things we did in the last four cells until the player reaches the correct sequence, I used a `while` loop that runs for as long as the user's input does NOT equal the actual, randomly generated list. "
   ]
  },
  {
   "cell_type": "code",
   "execution_count": 6,
   "id": "f4e8c517",
   "metadata": {},
   "outputs": [
    {
     "name": "stdout",
     "output_type": "stream",
     "text": [
      "Enter a color: yellow\n",
      "Enter a color: green\n",
      "Enter a color: red\n",
      "Enter a color: blue\n",
      "['yellow', 'green', 'red', 'blue']\n",
      "color exists in list, but in wrong place\n",
      "correct color, correct place\n",
      "color exists in list, but in wrong place\n",
      "color does not exist in list\n",
      "Enter a color: red\n",
      "Enter a color: green\n",
      "Enter a color: yellow\n",
      "Enter a color: red\n",
      "['red', 'green', 'yellow', 'red']\n",
      "color exists in list, but in wrong place\n",
      "correct color, correct place\n",
      "correct color, correct place\n",
      "correct color, correct place\n",
      "Enter a color: green\n",
      "Enter a color: green\n",
      "Enter a color: yellow\n",
      "Enter a color: red\n",
      "['green', 'green', 'yellow', 'red']\n",
      "correct color, correct place\n",
      "correct color, correct place\n",
      "correct color, correct place\n",
      "correct color, correct place\n",
      "yay!\n"
     ]
    }
   ],
   "source": [
    "inputs = []\n",
    "\n",
    "while inputs != colorSet:\n",
    "    \n",
    "    j = 0\n",
    "    for j in range(len(rawSet)):\n",
    "        guess = input('Enter a color: ')\n",
    "        inputs.append(guess)\n",
    "        j+=1\n",
    "    print(inputs)\n",
    "\n",
    "    k = 0\n",
    "    for k in range(len(rawSet)):\n",
    "        if colorSet[k] == inputs[k]:\n",
    "            print('correct color, correct place')\n",
    "            k+=1\n",
    "        elif colorSet[k] != inputs[k]:\n",
    "            if inputs[k] in colorSet:\n",
    "                print('color exists in list, but in wrong place')\n",
    "            else:\n",
    "                print('color does not exist in list')\n",
    "            k+=1\n",
    "    if inputs != colorSet:\n",
    "        inputs.clear()\n",
    "    else:\n",
    "        print('yay!')"
   ]
  },
  {
   "cell_type": "markdown",
   "id": "e133f4af",
   "metadata": {},
   "source": [
    "With this method, the loop runs forever until the player finds the correct sequence because **it is not restricted by a set number of attempts.** "
   ]
  },
  {
   "cell_type": "code",
   "execution_count": 14,
   "id": "8f30bdf9",
   "metadata": {
    "scrolled": true
   },
   "outputs": [
    {
     "name": "stdout",
     "output_type": "stream",
     "text": [
      "Enter a color: red\n",
      "Enter a color: red\n",
      "Enter a color: red\n",
      "Enter a color: red\n",
      "['red', 'red', 'red', 'red']\n",
      "color exists in list, but in wrong place\n",
      "color exists in list, but in wrong place\n",
      "color exists in list, but in wrong place\n",
      "correct color, correct place\n",
      "Enter a color: red\n",
      "Enter a color: red\n",
      "Enter a color: red\n",
      "Enter a color: red\n",
      "['red', 'red', 'red', 'red']\n",
      "color exists in list, but in wrong place\n",
      "color exists in list, but in wrong place\n",
      "color exists in list, but in wrong place\n",
      "correct color, correct place\n",
      "Enter a color: red\n",
      "Enter a color: red\n",
      "Enter a color: red\n",
      "Enter a color: red\n",
      "['red', 'red', 'red', 'red']\n",
      "color exists in list, but in wrong place\n",
      "color exists in list, but in wrong place\n",
      "color exists in list, but in wrong place\n",
      "correct color, correct place\n",
      "Enter a color: red\n",
      "Enter a color: red\n",
      "Enter a color: red\n",
      "Enter a color: red\n",
      "['red', 'red', 'red', 'red']\n",
      "color exists in list, but in wrong place\n",
      "color exists in list, but in wrong place\n",
      "color exists in list, but in wrong place\n",
      "correct color, correct place\n"
     ]
    },
    {
     "ename": "KeyboardInterrupt",
     "evalue": "Interrupted by user",
     "output_type": "error",
     "traceback": [
      "\u001b[0;31m---------------------------------------------------------------------------\u001b[0m",
      "\u001b[0;31mKeyboardInterrupt\u001b[0m                         Traceback (most recent call last)",
      "\u001b[0;32m/tmp/ipykernel_6503/3053172811.py\u001b[0m in \u001b[0;36m<module>\u001b[0;34m\u001b[0m\n\u001b[1;32m      5\u001b[0m     \u001b[0mj\u001b[0m \u001b[0;34m=\u001b[0m \u001b[0;36m0\u001b[0m\u001b[0;34m\u001b[0m\u001b[0;34m\u001b[0m\u001b[0m\n\u001b[1;32m      6\u001b[0m     \u001b[0;32mfor\u001b[0m \u001b[0mj\u001b[0m \u001b[0;32min\u001b[0m \u001b[0mrange\u001b[0m\u001b[0;34m(\u001b[0m\u001b[0mlen\u001b[0m\u001b[0;34m(\u001b[0m\u001b[0mrawSet\u001b[0m\u001b[0;34m)\u001b[0m\u001b[0;34m)\u001b[0m\u001b[0;34m:\u001b[0m\u001b[0;34m\u001b[0m\u001b[0;34m\u001b[0m\u001b[0m\n\u001b[0;32m----> 7\u001b[0;31m         \u001b[0mguess\u001b[0m \u001b[0;34m=\u001b[0m \u001b[0minput\u001b[0m\u001b[0;34m(\u001b[0m\u001b[0;34m'Enter a color: '\u001b[0m\u001b[0;34m)\u001b[0m\u001b[0;34m\u001b[0m\u001b[0;34m\u001b[0m\u001b[0m\n\u001b[0m\u001b[1;32m      8\u001b[0m         \u001b[0minputs\u001b[0m\u001b[0;34m.\u001b[0m\u001b[0mappend\u001b[0m\u001b[0;34m(\u001b[0m\u001b[0mguess\u001b[0m\u001b[0;34m)\u001b[0m\u001b[0;34m\u001b[0m\u001b[0;34m\u001b[0m\u001b[0m\n\u001b[1;32m      9\u001b[0m         \u001b[0mj\u001b[0m\u001b[0;34m+=\u001b[0m\u001b[0;36m1\u001b[0m\u001b[0;34m\u001b[0m\u001b[0;34m\u001b[0m\u001b[0m\n",
      "\u001b[0;32m/usr/lib/python3/dist-packages/ipykernel/kernelbase.py\u001b[0m in \u001b[0;36mraw_input\u001b[0;34m(self, prompt)\u001b[0m\n\u001b[1;32m   1042\u001b[0m                 \u001b[0;34m\"raw_input was called, but this frontend does not support input requests.\"\u001b[0m\u001b[0;34m\u001b[0m\u001b[0;34m\u001b[0m\u001b[0m\n\u001b[1;32m   1043\u001b[0m             )\n\u001b[0;32m-> 1044\u001b[0;31m         return self._input_request(\n\u001b[0m\u001b[1;32m   1045\u001b[0m             \u001b[0mstr\u001b[0m\u001b[0;34m(\u001b[0m\u001b[0mprompt\u001b[0m\u001b[0;34m)\u001b[0m\u001b[0;34m,\u001b[0m\u001b[0;34m\u001b[0m\u001b[0;34m\u001b[0m\u001b[0m\n\u001b[1;32m   1046\u001b[0m             \u001b[0mself\u001b[0m\u001b[0;34m.\u001b[0m\u001b[0m_parent_ident\u001b[0m\u001b[0;34m[\u001b[0m\u001b[0;34m\"shell\"\u001b[0m\u001b[0;34m]\u001b[0m\u001b[0;34m,\u001b[0m\u001b[0;34m\u001b[0m\u001b[0;34m\u001b[0m\u001b[0m\n",
      "\u001b[0;32m/usr/lib/python3/dist-packages/ipykernel/kernelbase.py\u001b[0m in \u001b[0;36m_input_request\u001b[0;34m(self, prompt, ident, parent, password)\u001b[0m\n\u001b[1;32m   1087\u001b[0m             \u001b[0;32mexcept\u001b[0m \u001b[0mKeyboardInterrupt\u001b[0m\u001b[0;34m:\u001b[0m\u001b[0;34m\u001b[0m\u001b[0;34m\u001b[0m\u001b[0m\n\u001b[1;32m   1088\u001b[0m                 \u001b[0;31m# re-raise KeyboardInterrupt, to truncate traceback\u001b[0m\u001b[0;34m\u001b[0m\u001b[0;34m\u001b[0m\u001b[0m\n\u001b[0;32m-> 1089\u001b[0;31m                 \u001b[0;32mraise\u001b[0m \u001b[0mKeyboardInterrupt\u001b[0m\u001b[0;34m(\u001b[0m\u001b[0;34m\"Interrupted by user\"\u001b[0m\u001b[0;34m)\u001b[0m \u001b[0;32mfrom\u001b[0m \u001b[0;32mNone\u001b[0m\u001b[0;34m\u001b[0m\u001b[0;34m\u001b[0m\u001b[0m\n\u001b[0m\u001b[1;32m   1090\u001b[0m             \u001b[0;32mexcept\u001b[0m \u001b[0mException\u001b[0m\u001b[0;34m:\u001b[0m\u001b[0;34m\u001b[0m\u001b[0;34m\u001b[0m\u001b[0m\n\u001b[1;32m   1091\u001b[0m                 \u001b[0mself\u001b[0m\u001b[0;34m.\u001b[0m\u001b[0mlog\u001b[0m\u001b[0;34m.\u001b[0m\u001b[0mwarning\u001b[0m\u001b[0;34m(\u001b[0m\u001b[0;34m\"Invalid Message:\"\u001b[0m\u001b[0;34m,\u001b[0m \u001b[0mexc_info\u001b[0m\u001b[0;34m=\u001b[0m\u001b[0;32mTrue\u001b[0m\u001b[0;34m)\u001b[0m\u001b[0;34m\u001b[0m\u001b[0;34m\u001b[0m\u001b[0m\n",
      "\u001b[0;31mKeyboardInterrupt\u001b[0m: Interrupted by user"
     ]
    }
   ],
   "source": [
    "inputs = []\n",
    "\n",
    "while inputs != colorSet:\n",
    "    \n",
    "    j = 0\n",
    "    for j in range(len(rawSet)):\n",
    "        guess = input('Enter a color: ')\n",
    "        inputs.append(guess)\n",
    "        j+=1\n",
    "    print(inputs)\n",
    "\n",
    "    k = 0\n",
    "    for k in range(len(rawSet)):\n",
    "        if colorSet[k] == inputs[k]:\n",
    "            print('correct color, correct place')\n",
    "            k+=1\n",
    "        elif colorSet[k] != inputs[k]:\n",
    "            if inputs[k] in colorSet:\n",
    "                print('color exists in list, but in wrong place')\n",
    "            else:\n",
    "                print('color does not exist in list')\n",
    "            k+=1\n",
    "    if inputs != colorSet:\n",
    "        inputs.clear()\n",
    "    else:\n",
    "        print('yay!')"
   ]
  },
  {
   "cell_type": "markdown",
   "id": "69a0a569",
   "metadata": {},
   "source": [
    "However, before fixing this bug, I wanted to see how I could **visualize this game so that the player can see their guesses throughout the game and make better deductions using that**. For this I imported `matplotlib.pyplot` and used `plt.subplots` for my first few attempts in visualizing the user's inputs. \n",
    "I made the y limit equal to 11 so that there would be space to display 10 attempts made by the player. The set of black points at the top of the plot represents the hidden sequence. "
   ]
  },
  {
   "cell_type": "code",
   "execution_count": 7,
   "id": "2fccffa4",
   "metadata": {},
   "outputs": [],
   "source": [
    "import matplotlib.pyplot as plt"
   ]
  },
  {
   "cell_type": "code",
   "execution_count": 20,
   "id": "29811a53",
   "metadata": {},
   "outputs": [
    {
     "name": "stdout",
     "output_type": "stream",
     "text": [
      "Enter a color: red\n",
      "Enter a color: yellow\n",
      "Enter a color: blue\n",
      "Enter a color: green\n"
     ]
    },
    {
     "data": {
      "image/png": "[encoded data removed]",
      "text/plain": [
       "<Figure size 288x576 with 1 Axes>"
      ]
     },
     "metadata": {
      "needs_background": "light"
     },
     "output_type": "display_data"
    }
   ],
   "source": [
    "fig, ax = plt.subplots(1,1,figsize = (4,8))\n",
    "ax.set_ylim(0,11.5)\n",
    "ax.set_xlim(0,4.5)\n",
    "ax.scatter(1,11,s=1000, c='black')\n",
    "ax.scatter(2,11,s=1000, c='black')\n",
    "ax.scatter(3,11,s=1000, c='black')\n",
    "ax.scatter(4,11,s=1000, c='black')\n",
    "\n",
    "inputs = []\n",
    "    \n",
    "j = 0\n",
    "y = 1\n",
    "x = 1\n",
    "for j in range(len(rawSet)):\n",
    "    guess = input('Enter a color: ')\n",
    "    inputs.append(guess)\n",
    "    ax.scatter(x,11-y, s=1000, c = guess)\n",
    "    j+=1\n",
    "    x+=1\n",
    "y+=1"
   ]
  },
  {
   "cell_type": "markdown",
   "id": "41d0c2b8",
   "metadata": {},
   "source": [
    "However, after using the method from above  in my `while` loop from earlier, I found that the plot only displays at the **end** of the `while` loop: "
   ]
  },
  {
   "cell_type": "code",
   "execution_count": 9,
   "id": "a82fa1f8",
   "metadata": {},
   "outputs": [
    {
     "name": "stdout",
     "output_type": "stream",
     "text": [
      "Enter a color: green\n",
      "Enter a color: red\n",
      "Enter a color: yellow\n",
      "Enter a color: blue\n",
      "correct color, correct place\n",
      "color exists in list, but in wrong place\n",
      "correct color, correct place\n",
      "color does not exist in list\n",
      "Enter a color: green\n",
      "Enter a color: yellow\n",
      "Enter a color: yellow\n",
      "Enter a color: red\n",
      "correct color, correct place\n",
      "color exists in list, but in wrong place\n",
      "correct color, correct place\n",
      "correct color, correct place\n",
      "Enter a color: green\n",
      "Enter a color: green\n",
      "Enter a color: yellow\n",
      "Enter a color: red\n",
      "correct color, correct place\n",
      "correct color, correct place\n",
      "correct color, correct place\n",
      "correct color, correct place\n"
     ]
    },
    {
     "data": {
      "image/png": "[encoded data removed]",
      "text/plain": [
       "<Figure size 288x576 with 1 Axes>"
      ]
     },
     "metadata": {
      "needs_background": "light"
     },
     "output_type": "display_data"
    }
   ],
   "source": [
    "fig, ax = plt.subplots(1,1,figsize = (4,8))\n",
    "ax.set_ylim(0,11.5)\n",
    "ax.set_xlim(0,4.5)\n",
    "ax.scatter(1,11,s=1000, c='black')\n",
    "ax.scatter(2,11,s=1000, c='black')\n",
    "ax.scatter(3,11,s=1000, c='black')\n",
    "ax.scatter(4,11,s=1000, c='black')\n",
    "\n",
    "inputs = []\n",
    "y = 0\n",
    "\n",
    "while inputs != colorSet:\n",
    "    j = 0\n",
    "    x = 1\n",
    "    y +=1\n",
    "    \n",
    "    for j in range(len(rawSet)):\n",
    "        guess = input('Enter a color: ')\n",
    "        inputs.append(guess)\n",
    "        j+=1\n",
    "    \n",
    "    k = 0\n",
    "    for k in range(len(rawSet)):\n",
    "        if colorSet[k] == inputs[k]:\n",
    "            print('correct color, correct place')\n",
    "            k+=1\n",
    "        elif colorSet[k] != inputs[k]:\n",
    "            if inputs[k] in colorSet:\n",
    "                print('color exists in list, but in wrong place')\n",
    "            else:\n",
    "                print('color does not exist in list')\n",
    "            k+=1\n",
    "    if inputs != colorSet:\n",
    "        ax.scatter(1,11-y, s=1000, c = inputs[0])\n",
    "        ax.scatter(2,11-y, s=1000, c = inputs[1])\n",
    "        ax.scatter(3,11-y, s=1000, c = inputs[2])\n",
    "        ax.scatter(4,11-y, s=1000, c = inputs[3])\n",
    "        inputs.clear()\n",
    "    else:\n",
    "        ax.scatter(1,11-y, s=1000, c = inputs[0])\n",
    "        ax.scatter(2,11-y, s=1000, c = inputs[1])\n",
    "        ax.scatter(3,11-y, s=1000, c = inputs[2])\n",
    "        ax.scatter(4,11-y, s=1000, c = inputs[3])\n",
    "        plt.show()"
   ]
  },
  {
   "cell_type": "markdown",
   "id": "c0e045a0",
   "metadata": {},
   "source": [
    "In other words, through this method, the player will **not be able to track how their guesses look each time they input a sequence of colors.**\n",
    "For this reason, I **created a function** which takes the user's input and plots the color sequence for each sequence of colors the user inputs (four colors)"
   ]
  },
  {
   "cell_type": "markdown",
   "id": "08934e31",
   "metadata": {},
   "source": [
    "### Intial version of function: "
   ]
  },
  {
   "cell_type": "code",
   "execution_count": 10,
   "id": "e55fbaf4",
   "metadata": {},
   "outputs": [],
   "source": [
    "inputs =[]\n",
    "\n",
    "def plotColors():\n",
    "\n",
    "    for item in range(len(rawSet)):\n",
    "        guess = input('Enter a color: ')\n",
    "        inputs.append(guess)\n",
    "    \n",
    "    plt.scatter(1,1, s=1000, c = inputs[0])\n",
    "    plt.scatter(2,1, s=1000, c = inputs[1])\n",
    "    plt.scatter(3,1, s=1000, c = inputs[2])\n",
    "    plt.scatter(4,1, s=1000, c = inputs[3])\n",
    "    plt.show() "
   ]
  },
  {
   "cell_type": "markdown",
   "id": "7b981d69",
   "metadata": {},
   "source": [
    "I called this function in a `for` loop ranging from 0 to 10 (this means that the most number of times the user can input colors is 10 -- this **fixes the attempt limit issue from earlier**) that examines whether or not the player's input is correct and stops looping when every element in the list of inputs is equal to the programatically generated set of colors. "
   ]
  },
  {
   "cell_type": "code",
   "execution_count": 11,
   "id": "c95fec36",
   "metadata": {},
   "outputs": [
    {
     "name": "stdout",
     "output_type": "stream",
     "text": [
      "Enter a color: green\n",
      "Enter a color: red\n",
      "Enter a color: yellow\n",
      "Enter a color: blue\n"
     ]
    },
    {
     "data": {
      "image/png": "[encoded data removed]",
      "text/plain": [
       "<Figure size 432x288 with 1 Axes>"
      ]
     },
     "metadata": {
      "needs_background": "light"
     },
     "output_type": "display_data"
    },
    {
     "name": "stdout",
     "output_type": "stream",
     "text": [
      "correct color, correct place\n",
      "color exists in list, but in wrong place\n",
      "correct color, correct place\n",
      "color does not exist in list\n",
      "Enter a color: green\n",
      "Enter a color: yellow\n",
      "Enter a color: yellow\n",
      "Enter a color: red\n"
     ]
    },
    {
     "data": {
      "image/png": "[encoded data removed]",
      "text/plain": [
       "<Figure size 432x288 with 1 Axes>"
      ]
     },
     "metadata": {
      "needs_background": "light"
     },
     "output_type": "display_data"
    },
    {
     "name": "stdout",
     "output_type": "stream",
     "text": [
      "correct color, correct place\n",
      "color exists in list, but in wrong place\n",
      "correct color, correct place\n",
      "correct color, correct place\n",
      "Enter a color: green\n",
      "Enter a color: green\n",
      "Enter a color: yellow\n",
      "Enter a color: red\n"
     ]
    },
    {
     "data": {
      "image/png": "[encoded data removed]",
      "text/plain": [
       "<Figure size 432x288 with 1 Axes>"
      ]
     },
     "metadata": {
      "needs_background": "light"
     },
     "output_type": "display_data"
    },
    {
     "name": "stdout",
     "output_type": "stream",
     "text": [
      "correct color, correct place\n",
      "correct color, correct place\n",
      "correct color, correct place\n",
      "correct color, correct place\n"
     ]
    }
   ],
   "source": [
    "for i in range(10):\n",
    "    plotColors()\n",
    "    k = 0\n",
    "    for k in range(len(rawSet)):\n",
    "        if colorSet[k] == inputs[k]:\n",
    "            print('correct color, correct place')\n",
    "            k+=1\n",
    "        elif colorSet[k] != inputs[k]:\n",
    "            if inputs[k] in colorSet:\n",
    "                print('color exists in list, but in wrong place')\n",
    "            else:\n",
    "                print('color does not exist in list')\n",
    "            k+=1\n",
    "    if inputs != colorSet:\n",
    "        inputs.clear()\n",
    "    elif inputs == colorSet:\n",
    "        break"
   ]
  },
  {
   "cell_type": "markdown",
   "id": "14a429eb",
   "metadata": {},
   "source": [
    "I ran the same code as above but with a lesser number of attempts (only 4, not 10) **to demonstrate how the loop stops taking more inputs** once the user reaches the maximum number of attempts without finding the correct answer."
   ]
  },
  {
   "cell_type": "code",
   "execution_count": 27,
   "id": "dce95f17",
   "metadata": {},
   "outputs": [
    {
     "name": "stdout",
     "output_type": "stream",
     "text": [
      "Enter a color: red\n",
      "Enter a color: red\n",
      "Enter a color: red\n",
      "Enter a color: red\n"
     ]
    },
    {
     "data": {
      "image/png": "[encoded data removed]",
      "text/plain": [
       "<Figure size 432x288 with 1 Axes>"
      ]
     },
     "metadata": {
      "needs_background": "light"
     },
     "output_type": "display_data"
    },
    {
     "name": "stdout",
     "output_type": "stream",
     "text": [
      "color exists in list, but in wrong place\n",
      "color exists in list, but in wrong place\n",
      "color exists in list, but in wrong place\n",
      "correct color, correct place\n",
      "Enter a color: red\n",
      "Enter a color: red\n",
      "Enter a color: red\n",
      "Enter a color: red\n"
     ]
    },
    {
     "data": {
      "image/png": "[encoded data removed]",
      "text/plain": [
       "<Figure size 432x288 with 1 Axes>"
      ]
     },
     "metadata": {
      "needs_background": "light"
     },
     "output_type": "display_data"
    },
    {
     "name": "stdout",
     "output_type": "stream",
     "text": [
      "color exists in list, but in wrong place\n",
      "color exists in list, but in wrong place\n",
      "color exists in list, but in wrong place\n",
      "correct color, correct place\n",
      "Enter a color: red\n",
      "Enter a color: red\n",
      "Enter a color: red\n",
      "Enter a color: red\n"
     ]
    },
    {
     "data": {
      "image/png": "[encoded data removed]",
      "text/plain": [
       "<Figure size 432x288 with 1 Axes>"
      ]
     },
     "metadata": {
      "needs_background": "light"
     },
     "output_type": "display_data"
    },
    {
     "name": "stdout",
     "output_type": "stream",
     "text": [
      "color exists in list, but in wrong place\n",
      "color exists in list, but in wrong place\n",
      "color exists in list, but in wrong place\n",
      "correct color, correct place\n",
      "Enter a color: red\n",
      "Enter a color: red\n",
      "Enter a color: red\n",
      "Enter a color: red\n"
     ]
    },
    {
     "data": {
      "image/png": "[encoded data removed]",
      "text/plain": [
       "<Figure size 432x288 with 1 Axes>"
      ]
     },
     "metadata": {
      "needs_background": "light"
     },
     "output_type": "display_data"
    },
    {
     "name": "stdout",
     "output_type": "stream",
     "text": [
      "color exists in list, but in wrong place\n",
      "color exists in list, but in wrong place\n",
      "color exists in list, but in wrong place\n",
      "correct color, correct place\n"
     ]
    }
   ],
   "source": [
    "inputs = []\n",
    "for i in range(4):\n",
    "    plotColors()\n",
    "    k = 0\n",
    "    for k in range(len(rawSet)):\n",
    "        if colorSet[k] == inputs[k]:\n",
    "            print('correct color, correct place')\n",
    "            k+=1\n",
    "        elif colorSet[k] != inputs[k]:\n",
    "            if inputs[k] in colorSet:\n",
    "                print('color exists in list, but in wrong place')\n",
    "            else:\n",
    "                print('color does not exist in list')\n",
    "            k+=1\n",
    "    if inputs != colorSet:\n",
    "        inputs.clear()\n",
    "    elif inputs == colorSet:\n",
    "        break"
   ]
  },
  {
   "cell_type": "markdown",
   "id": "dc25edae",
   "metadata": {},
   "source": [
    "With this new method of using a function to plot a new graph each time, **the player is able to finally see what they input** and can better understand what they need to change each time they make a new guess!"
   ]
  },
  {
   "cell_type": "markdown",
   "id": "d9176078",
   "metadata": {},
   "source": [
    "### My next version of the function from above just has a few tweaks to make it more easily readable for the user. \n",
    "These include:\n",
    "- including the part where the computer tells the user which colors they guessed correctly INSIDE the plotColors() function. This way I can include a row representing the correct sequence ABOVE the user's input and change the color of certain elements in that row to match the user's input, if they guessed that element correctly. \n",
    "- Showing the user which attempt they are on so that they can keep better track of how many attempts they have left. \n",
    "\n",
    "The new version of the `plotColors()` takes the `attemptNum` as input, which is the attempt the user is on at that point minus 1 (this value corresponds with the iterating varible of the `for` loop below the function, which restricts the number of attempts and examines whether or not the user has found the correct sequence, similar to the for loop from above).   "
   ]
  },
  {
   "cell_type": "code",
   "execution_count": 13,
   "id": "0c981608",
   "metadata": {},
   "outputs": [
    {
     "name": "stdout",
     "output_type": "stream",
     "text": [
      "------Attempt  1 ------\n",
      "Color  1\n",
      "Enter color: green\n",
      "Color  2\n",
      "Enter color: red\n",
      "Color  3\n",
      "Enter color: yellow\n",
      "Color  4\n",
      "Enter color: blue\n",
      "\n",
      "Color  2  exists in list, but in wrong place\n",
      "\n",
      "Color  4  does not exist in list\n"
     ]
    },
    {
     "data": {
      "image/png": "[encoded data removed]",
      "text/plain": [
       "<Figure size 432x288 with 1 Axes>"
      ]
     },
     "metadata": {
      "needs_background": "light"
     },
     "output_type": "display_data"
    },
    {
     "name": "stdout",
     "output_type": "stream",
     "text": [
      "------Attempt  2 ------\n",
      "Color  1\n",
      "Enter color: green\n",
      "Color  2\n",
      "Enter color: yellow\n",
      "Color  3\n",
      "Enter color: yellow\n",
      "Color  4\n",
      "Enter color: red\n",
      "\n",
      "Color  2  exists in list, but in wrong place\n"
     ]
    },
    {
     "data": {
      "image/png": "[encoded data removed]",
      "text/plain": [
       "<Figure size 432x288 with 1 Axes>"
      ]
     },
     "metadata": {
      "needs_background": "light"
     },
     "output_type": "display_data"
    },
    {
     "name": "stdout",
     "output_type": "stream",
     "text": [
      "------Attempt  3 ------\n",
      "Color  1\n",
      "Enter color: green\n",
      "Color  2\n",
      "Enter color: green\n",
      "Color  3\n",
      "Enter color: yellow\n",
      "Color  4\n",
      "Enter color: red\n"
     ]
    },
    {
     "data": {
      "image/png": "[encoded data removed]",
      "text/plain": [
       "<Figure size 432x288 with 1 Axes>"
      ]
     },
     "metadata": {
      "needs_background": "light"
     },
     "output_type": "display_data"
    },
    {
     "name": "stdout",
     "output_type": "stream",
     "text": [
      "Congratulations! You found the color sequence in  3 attempts!\n"
     ]
    }
   ],
   "source": [
    "inputs =[]\n",
    "\n",
    "def plotColors(attemptNum):\n",
    "    \n",
    "    \n",
    "    print('------Attempt ', i+1, '------')\n",
    "\n",
    "    for item in range(len(rawSet)):\n",
    "        print('Color ', item+1)\n",
    "        guess = input('Enter color: ')\n",
    "        inputs.append(guess)\n",
    "        \n",
    "    k = 0\n",
    "    x = 1\n",
    "    for k in range(len(rawSet)):\n",
    "        if colorSet[k] == inputs[k]:\n",
    "            plt.scatter(x,2,s=1000, c=inputs[k])            \n",
    "            k+=1\n",
    "            x+=1\n",
    "        elif colorSet[k] != inputs[k]:\n",
    "            plt.scatter(x,2,s=1000, c='black')    \n",
    "            print('')\n",
    "            if inputs[k] in colorSet:\n",
    "                print('Color ', k+1,' exists in list, but in wrong place')\n",
    "            else:\n",
    "                print('Color ', k+1, ' does not exist in list')\n",
    "            k+=1\n",
    "            x+=1\n",
    "    plt.scatter(1,1, s=1000, c = inputs[0])\n",
    "    plt.scatter(2,1, s=1000, c = inputs[1])\n",
    "    plt.scatter(3,1, s=1000, c = inputs[2])\n",
    "    plt.scatter(4,1, s=1000, c = inputs[3])\n",
    "    plt.show()    \n",
    "    \n",
    "for i in range(10):\n",
    "    plotColors(i)\n",
    "    if inputs != colorSet:\n",
    "        inputs.clear()\n",
    "    elif inputs == colorSet:\n",
    "        print('Congratulations! You found the color sequence in ', i+1, 'attempts!')\n",
    "        break"
   ]
  },
  {
   "cell_type": "markdown",
   "id": "b96283ba",
   "metadata": {},
   "source": [
    "To give the player more interaction with the game's setup I also wanted to include a way for them **to determine how many attempts they would like**. This was my main change in the next version, including not only an input from the user regarding the number of attempts but also a restriction on the number the user can pick, as well as reminders of how many attempts the player has left when they come close to their chosen limit.\n",
    "\n",
    "I did this by implementing a `while` loop that runs for as long as the player's attempt choice is greater than 15 (upper limit) or lower than 3 (lower limit). The player's input is taken as an integer and then evaluated using an `if-else` statement that outputs different responses from the code depending on whether or not the user's input is within the given range or not. If it is not, then the player is prompted to try again and input a valid answer.\n",
    "One issue with this is that if the player wants to spell out the the number (i.e. they input 'four' instead of '4' or '4.'), the code outputs an error because it cannot be converted into an integer. *So far, I have not found an elegant way to fix this error. I believe the only other way would to be make a series of if-else statements, go through all the possible inputs from the user that could be words ('three', 'four', 'five', ..., 'fifteen') and assign an integer value to each, and store those values in a class.* \n",
    "\n",
    "\n",
    "I also included an option for the player to **view the correct answer at the end of their attempts** if they were not able to find it through their attempts. I did this by asking the user whether they would like to view the final answer if the iteration variable in the `for` loop equals the player's choice of attempts and displaying the correct answer depending on their response. They are prompted to either respond with 'y' or 'n', but if they input some other value, prompts them to respond again. "
   ]
  },
  {
   "cell_type": "markdown",
   "id": "0178a2cb",
   "metadata": {},
   "source": [
    "#### Output with **invalid** inputs from user for `playerAttemptChoice`:  "
   ]
  },
  {
   "cell_type": "code",
   "execution_count": 17,
   "id": "309e48fd",
   "metadata": {},
   "outputs": [
    {
     "name": "stdout",
     "output_type": "stream",
     "text": [
      "How many attempts would you like to have? \n",
      "The least number of attempts you are allowed is 3 and the most is 15.\n",
      "Please do not spell out the number! Keep it as an integer.\n",
      "1\n",
      "Oops! Looks like you entered an invalid number of attempts. Please keep your choice between 3 and 15!\n",
      "How many attempts would you like to have? \n",
      "The least number of attempts you are allowed is 3 and the most is 15.\n",
      "Please do not spell out the number! Keep it as an integer.\n",
      "19\n",
      "Oops! Looks like you entered an invalid number of attempts. Please keep your choice between 3 and 15!\n",
      "How many attempts would you like to have? \n",
      "The least number of attempts you are allowed is 3 and the most is 15.\n",
      "Please do not spell out the number! Keep it as an integer.\n",
      "three\n"
     ]
    },
    {
     "ename": "ValueError",
     "evalue": "invalid literal for int() with base 10: 'three'",
     "output_type": "error",
     "traceback": [
      "\u001b[0;31m---------------------------------------------------------------------------\u001b[0m",
      "\u001b[0;31mValueError\u001b[0m                                Traceback (most recent call last)",
      "\u001b[0;32m/tmp/ipykernel_10498/3111662178.py\u001b[0m in \u001b[0;36m<module>\u001b[0;34m\u001b[0m\n\u001b[1;32m     35\u001b[0m \u001b[0mplayerAttemptChoice\u001b[0m \u001b[0;34m=\u001b[0m \u001b[0;36m0\u001b[0m\u001b[0;34m\u001b[0m\u001b[0;34m\u001b[0m\u001b[0m\n\u001b[1;32m     36\u001b[0m \u001b[0;32mwhile\u001b[0m \u001b[0mplayerAttemptChoice\u001b[0m\u001b[0;34m>\u001b[0m\u001b[0;36m15\u001b[0m \u001b[0;32mor\u001b[0m \u001b[0mplayerAttemptChoice\u001b[0m\u001b[0;34m<\u001b[0m\u001b[0;36m3\u001b[0m\u001b[0;34m:\u001b[0m\u001b[0;34m\u001b[0m\u001b[0;34m\u001b[0m\u001b[0m\n\u001b[0;32m---> 37\u001b[0;31m     \u001b[0mplayerAttemptChoice\u001b[0m \u001b[0;34m=\u001b[0m \u001b[0mint\u001b[0m\u001b[0;34m(\u001b[0m\u001b[0minput\u001b[0m\u001b[0;34m(\u001b[0m\u001b[0;34m'How many attempts would you like to have? \\nThe least number of attempts you are allowed is 3 and the most is 15.\\nPlease do not spell out the number! Keep it as an integer.\\n'\u001b[0m\u001b[0;34m)\u001b[0m\u001b[0;34m)\u001b[0m\u001b[0;34m\u001b[0m\u001b[0;34m\u001b[0m\u001b[0m\n\u001b[0m\u001b[1;32m     38\u001b[0m     \u001b[0;32mif\u001b[0m \u001b[0mplayerAttemptChoice\u001b[0m\u001b[0;34m>\u001b[0m\u001b[0;36m15\u001b[0m \u001b[0;32mor\u001b[0m \u001b[0mplayerAttemptChoice\u001b[0m\u001b[0;34m<\u001b[0m\u001b[0;36m3\u001b[0m\u001b[0;34m:\u001b[0m\u001b[0;34m\u001b[0m\u001b[0;34m\u001b[0m\u001b[0m\n\u001b[1;32m     39\u001b[0m         \u001b[0mprint\u001b[0m\u001b[0;34m(\u001b[0m\u001b[0;34m'Oops! Looks like you entered an invalid number of attempts. Please keep your choice between 3 and 15!'\u001b[0m\u001b[0;34m)\u001b[0m \u001b[0;31m## what if user enters a string?\u001b[0m\u001b[0;34m\u001b[0m\u001b[0;34m\u001b[0m\u001b[0m\n",
      "\u001b[0;31mValueError\u001b[0m: invalid literal for int() with base 10: 'three'"
     ]
    }
   ],
   "source": [
    "inputs =[]\n",
    "\n",
    "def plotColors(attemptNum):\n",
    "    \n",
    "    \n",
    "    print('------Attempt ', i+1, '------')\n",
    "\n",
    "    for item in range(len(rawSet)):\n",
    "        print('Color ', item+1)\n",
    "        guess = input('Enter color: ')\n",
    "        inputs.append(guess)\n",
    "        \n",
    "    k = 0\n",
    "    x = 1\n",
    "    for k in range(len(rawSet)):\n",
    "        if colorSet[k] == inputs[k]:\n",
    "            plt.scatter(x,2,s=1000, c=inputs[k])            \n",
    "            k+=1\n",
    "            x+=1\n",
    "        elif colorSet[k] != inputs[k]:\n",
    "            plt.scatter(x,2,s=1000, c='black')    \n",
    "            print('')\n",
    "            if inputs[k] in colorSet:\n",
    "                print('Color ', k+1,' exists in list, but in wrong place')\n",
    "            else:\n",
    "                print('Color ', k+1, ' does not exist in list')\n",
    "            k+=1\n",
    "            x+=1\n",
    "    plt.scatter(1,1, s=1000, c = inputs[0])\n",
    "    plt.scatter(2,1, s=1000, c = inputs[1])\n",
    "    plt.scatter(3,1, s=1000, c = inputs[2])\n",
    "    plt.scatter(4,1, s=1000, c = inputs[3])\n",
    "    plt.show()    \n",
    "    \n",
    "playerAttemptChoice = 0\n",
    "while playerAttemptChoice>15 or playerAttemptChoice<3:\n",
    "    playerAttemptChoice = int(input('How many attempts would you like to have? \\nThe least number of attempts you are allowed is 3 and the most is 15.\\nPlease do not spell out the number! Keep it as an integer.\\n'))\n",
    "    if playerAttemptChoice>15 or playerAttemptChoice<3:\n",
    "        print('Oops! Looks like you entered an invalid number of attempts. Please keep your choice between 3 and 15!') ## what if user enters a string?\n",
    "    else:\n",
    "        print('You have chosen', playerAttemptChoice, 'attempt(s)!')\n",
    "\n",
    "for i in range(playerAttemptChoice):\n",
    "    plotColors(i)\n",
    "    if inputs != colorSet:\n",
    "        inputs.clear()\n",
    "        if i+3 == playerAttemptChoice:\n",
    "            print('Reminder: you have 2 attempts left!')\n",
    "        if i+2 == playerAttemptChoice:\n",
    "            print('Reminder: you have 1 attempt left!')\n",
    "        if i+1 == playerAttemptChoice:\n",
    "            print('Oh no! You have used all of your attempts!')\n",
    "            lastQuest = None\n",
    "            while lastQuest != 'y' and lastQuest != 'n':\n",
    "                lastQuest = input('Would you like to view the answer? Enter \"y\" or \"n\"\\n')\n",
    "                if lastQuest == 'y':\n",
    "                    plt.scatter(1,1, s=1000, c = colorSet[0])\n",
    "                    plt.scatter(2,1, s=1000, c = colorSet[1])\n",
    "                    plt.scatter(3,1, s=1000, c = colorSet[2])\n",
    "                    plt.scatter(4,1, s=1000, c = colorSet[3])\n",
    "                    plt.show()  \n",
    "                elif lastQuest == 'n':\n",
    "                    print('Better luck next time!')\n",
    "                    break\n",
    "                elif lastQuest != 'y' and lastQuest != 'n':\n",
    "                    print('Invalid response')       \n",
    "            break\n",
    "        \n",
    "    elif inputs == colorSet:\n",
    "        print('Congratulations! You found the color sequence in ', i+1, 'attempt(s)!')\n",
    "        break"
   ]
  },
  {
   "cell_type": "markdown",
   "id": "80146d25",
   "metadata": {},
   "source": [
    "#### Output for valid input from user for `playerAttemptChoice`, and both valid and invalid input from user for `lastQuest`(choice for viewing final answer)."
   ]
  },
  {
   "cell_type": "code",
   "execution_count": 27,
   "id": "d3e97f05",
   "metadata": {},
   "outputs": [
    {
     "name": "stdout",
     "output_type": "stream",
     "text": [
      "How many attempts would you like to have? \n",
      "The least number of attempts you are allowed is 3 and the most is 15.\n",
      "Please do not spell out the number! Keep it as an integer.\n",
      "3\n",
      "You have chosen 3 attempt(s)!\n",
      "------Attempt  1 ------\n",
      "Color  1\n",
      "Enter color: red\n",
      "Color  2\n",
      "Enter color: red\n",
      "Color  3\n",
      "Enter color: red\n",
      "Color  4\n",
      "Enter color: red\n",
      "\n",
      "Color  1  exists in list, but in wrong place\n",
      "\n",
      "Color  2  exists in list, but in wrong place\n",
      "\n",
      "Color  3  exists in list, but in wrong place\n"
     ]
    },
    {
     "data": {
      "image/png": "[encoded data removed]",
      "text/plain": [
       "<Figure size 432x288 with 1 Axes>"
      ]
     },
     "metadata": {
      "needs_background": "light"
     },
     "output_type": "display_data"
    },
    {
     "name": "stdout",
     "output_type": "stream",
     "text": [
      "Reminder: you have 2 attempts left!\n",
      "------Attempt  2 ------\n",
      "Color  1\n",
      "Enter color: red\n",
      "Color  2\n",
      "Enter color: red\n",
      "Color  3\n",
      "Enter color: red\n",
      "Color  4\n",
      "Enter color: red\n",
      "\n",
      "Color  1  exists in list, but in wrong place\n",
      "\n",
      "Color  2  exists in list, but in wrong place\n",
      "\n",
      "Color  3  exists in list, but in wrong place\n"
     ]
    },
    {
     "data": {
      "image/png": "[encoded data removed]",
      "text/plain": [
       "<Figure size 432x288 with 1 Axes>"
      ]
     },
     "metadata": {
      "needs_background": "light"
     },
     "output_type": "display_data"
    },
    {
     "name": "stdout",
     "output_type": "stream",
     "text": [
      "Reminder: you have 1 attempt left!\n",
      "------Attempt  3 ------\n",
      "Color  1\n",
      "Enter color: red\n",
      "Color  2\n",
      "Enter color: red\n",
      "Color  3\n",
      "Enter color: red\n",
      "Color  4\n",
      "Enter color: red\n",
      "\n",
      "Color  1  exists in list, but in wrong place\n",
      "\n",
      "Color  2  exists in list, but in wrong place\n",
      "\n",
      "Color  3  exists in list, but in wrong place\n"
     ]
    },
    {
     "data": {
      "image/png": "[encoded data removed]",
      "text/plain": [
       "<Figure size 432x288 with 1 Axes>"
      ]
     },
     "metadata": {
      "needs_background": "light"
     },
     "output_type": "display_data"
    },
    {
     "name": "stdout",
     "output_type": "stream",
     "text": [
      "Oh no! You have used all of your attempts!\n",
      "Would you like to view the answer? Enter \"y\" or \"n\"\n",
      "yes\n",
      "Invalid response\n",
      "Would you like to view the answer? Enter \"y\" or \"n\"\n",
      "no\n",
      "Invalid response\n",
      "Would you like to view the answer? Enter \"y\" or \"n\"\n",
      "y\n"
     ]
    },
    {
     "data": {
      "image/png": "[encoded data removed]",
      "text/plain": [
       "<Figure size 432x288 with 1 Axes>"
      ]
     },
     "metadata": {
      "needs_background": "light"
     },
     "output_type": "display_data"
    }
   ],
   "source": [
    "inputs =[]\n",
    "\n",
    "def plotColors(attemptNum):\n",
    "    \n",
    "    \n",
    "    print('------Attempt ', i+1, '------')\n",
    "\n",
    "    for item in range(len(rawSet)):\n",
    "        print('Color ', item+1)\n",
    "        guess = input('Enter color: ')\n",
    "        inputs.append(guess)\n",
    "        \n",
    "    k = 0\n",
    "    x = 1\n",
    "    for k in range(len(rawSet)):\n",
    "        if colorSet[k] == inputs[k]:\n",
    "            plt.scatter(x,2,s=1000, c=inputs[k])            \n",
    "            k+=1\n",
    "            x+=1\n",
    "        elif colorSet[k] != inputs[k]:\n",
    "            plt.scatter(x,2,s=1000, c='black')    \n",
    "            print('')\n",
    "            if inputs[k] in colorSet:\n",
    "                print('Color ', k+1,' exists in list, but in wrong place')\n",
    "            else:\n",
    "                print('Color ', k+1, ' does not exist in list')\n",
    "            k+=1\n",
    "            x+=1\n",
    "    plt.scatter(1,1, s=1000, c = inputs[0])\n",
    "    plt.scatter(2,1, s=1000, c = inputs[1])\n",
    "    plt.scatter(3,1, s=1000, c = inputs[2])\n",
    "    plt.scatter(4,1, s=1000, c = inputs[3])\n",
    "    plt.show()    \n",
    "    \n",
    "playerAttemptChoice = 0\n",
    "while playerAttemptChoice>15 or playerAttemptChoice<3:\n",
    "    playerAttemptChoice = int(input('How many attempts would you like to have? \\nThe least number of attempts you are allowed is 3 and the most is 15.\\nPlease do not spell out the number! Keep it as an integer.\\n'))\n",
    "    if playerAttemptChoice>15 or playerAttemptChoice<3:\n",
    "        print('Oops! Looks like you entered an invalid number of attempts. Please keep your choice between 3 and 15!') ## what if user enters a string?\n",
    "    else:\n",
    "        print('You have chosen', playerAttemptChoice, 'attempt(s)!')\n",
    "\n",
    "for i in range(playerAttemptChoice):\n",
    "    plotColors(i)\n",
    "    if inputs != colorSet:\n",
    "        inputs.clear()\n",
    "        if i+3 == playerAttemptChoice:\n",
    "            print('Reminder: you have 2 attempts left!')\n",
    "        if i+2 == playerAttemptChoice:\n",
    "            print('Reminder: you have 1 attempt left!')\n",
    "        if i+1 == playerAttemptChoice:\n",
    "            print('Oh no! You have used all of your attempts!')\n",
    "            lastQuest = None\n",
    "            while lastQuest != 'y' and lastQuest != 'n':\n",
    "                lastQuest = input('Would you like to view the answer? Enter \"y\" or \"n\"\\n')\n",
    "                if lastQuest == 'y':\n",
    "                    plt.scatter(1,1, s=1000, c = colorSet[0])\n",
    "                    plt.scatter(2,1, s=1000, c = colorSet[1])\n",
    "                    plt.scatter(3,1, s=1000, c = colorSet[2])\n",
    "                    plt.scatter(4,1, s=1000, c = colorSet[3])\n",
    "                    plt.show()\n",
    "                    break\n",
    "                elif lastQuest == 'n':\n",
    "                    print('Better luck next time!')\n",
    "                    break\n",
    "                elif lastQuest != 'y' and lastQuest != 'n':\n",
    "                    print('Invalid response')\n",
    "            break\n",
    "        \n",
    "    elif inputs == colorSet:\n",
    "        print('Congratulations! You found the color sequence in ', i+1, 'attempt(s)!')\n",
    "        break"
   ]
  },
  {
   "cell_type": "markdown",
   "id": "d8e2dc25",
   "metadata": {},
   "source": [
    "#### Output when user answers 'n' for 'Would you like to view the answer?'"
   ]
  },
  {
   "cell_type": "code",
   "execution_count": 16,
   "id": "8aee8e14",
   "metadata": {},
   "outputs": [
    {
     "name": "stdout",
     "output_type": "stream",
     "text": [
      "How many attempts would you like to have? \n",
      "The least number of attempts you are allowed is 3 and the most is 15.\n",
      "Please do not spell out the number! Keep it as an integer.\n",
      "3\n",
      "You have chosen 3 attempt(s)!\n",
      "------Attempt  1 ------\n",
      "Color  1\n",
      "Enter color: red\n",
      "Color  2\n",
      "Enter color: red\n",
      "Color  3\n",
      "Enter color: red\n",
      "Color  4\n",
      "Enter color: red\n",
      "\n",
      "Color  1  exists in list, but in wrong place\n",
      "\n",
      "Color  2  exists in list, but in wrong place\n",
      "\n",
      "Color  3  exists in list, but in wrong place\n"
     ]
    },
    {
     "data": {
      "image/png": "[encoded data removed]",
      "text/plain": [
       "<Figure size 432x288 with 1 Axes>"
      ]
     },
     "metadata": {
      "needs_background": "light"
     },
     "output_type": "display_data"
    },
    {
     "name": "stdout",
     "output_type": "stream",
     "text": [
      "Reminder: you have 2 attempts left!\n",
      "------Attempt  2 ------\n",
      "Color  1\n",
      "Enter color: red\n",
      "Color  2\n",
      "Enter color: red\n",
      "Color  3\n",
      "Enter color: red\n",
      "Color  4\n",
      "Enter color: red\n",
      "\n",
      "Color  1  exists in list, but in wrong place\n",
      "\n",
      "Color  2  exists in list, but in wrong place\n",
      "\n",
      "Color  3  exists in list, but in wrong place\n"
     ]
    },
    {
     "data": {
      "image/png": "[encoded data removed]",
      "text/plain": [
       "<Figure size 432x288 with 1 Axes>"
      ]
     },
     "metadata": {
      "needs_background": "light"
     },
     "output_type": "display_data"
    },
    {
     "name": "stdout",
     "output_type": "stream",
     "text": [
      "Reminder: you have 1 attempt left!\n",
      "------Attempt  3 ------\n",
      "Color  1\n",
      "Enter color: red\n",
      "Color  2\n",
      "Enter color: red\n",
      "Color  3\n",
      "Enter color: red\n",
      "Color  4\n",
      "Enter color: red\n",
      "\n",
      "Color  1  exists in list, but in wrong place\n",
      "\n",
      "Color  2  exists in list, but in wrong place\n",
      "\n",
      "Color  3  exists in list, but in wrong place\n"
     ]
    },
    {
     "data": {
      "image/png": "[encoded data removed]",
      "text/plain": [
       "<Figure size 432x288 with 1 Axes>"
      ]
     },
     "metadata": {
      "needs_background": "light"
     },
     "output_type": "display_data"
    },
    {
     "name": "stdout",
     "output_type": "stream",
     "text": [
      "Oh no! You have used all of your attempts!\n",
      "Would you like to view the answer? Enter \"y\" or \"n\"\n",
      "n\n",
      "Better luck next time!\n"
     ]
    }
   ],
   "source": [
    "inputs =[]\n",
    "\n",
    "def plotColors(attemptNum):\n",
    "    \n",
    "    \n",
    "    print('------Attempt ', i+1, '------')\n",
    "\n",
    "    for item in range(len(rawSet)):\n",
    "        print('Color ', item+1)\n",
    "        guess = input('Enter color: ')\n",
    "        inputs.append(guess)\n",
    "        \n",
    "    k = 0\n",
    "    x = 1\n",
    "    for k in range(len(rawSet)):\n",
    "        if colorSet[k] == inputs[k]:\n",
    "            plt.scatter(x,2,s=1000, c=inputs[k])            \n",
    "            k+=1\n",
    "            x+=1\n",
    "        elif colorSet[k] != inputs[k]:\n",
    "            plt.scatter(x,2,s=1000, c='black')    \n",
    "            print('')\n",
    "            if inputs[k] in colorSet:\n",
    "                print('Color ', k+1,' exists in list, but in wrong place')\n",
    "            else:\n",
    "                print('Color ', k+1, ' does not exist in list')\n",
    "            k+=1\n",
    "            x+=1\n",
    "    plt.scatter(1,1, s=1000, c = inputs[0])\n",
    "    plt.scatter(2,1, s=1000, c = inputs[1])\n",
    "    plt.scatter(3,1, s=1000, c = inputs[2])\n",
    "    plt.scatter(4,1, s=1000, c = inputs[3])\n",
    "    plt.show()    \n",
    "    \n",
    "playerAttemptChoice = 0\n",
    "while playerAttemptChoice>15 or playerAttemptChoice<3:\n",
    "    playerAttemptChoice = int(input('How many attempts would you like to have? \\nThe least number of attempts you are allowed is 3 and the most is 15.\\nPlease do not spell out the number! Keep it as an integer.\\n'))\n",
    "    if playerAttemptChoice>15 or playerAttemptChoice<3:\n",
    "        print('Oops! Looks like you entered an invalid number of attempts. Please keep your choice between 3 and 15!') ## what if user enters a string?\n",
    "    else:\n",
    "        print('You have chosen', playerAttemptChoice, 'attempt(s)!')\n",
    "\n",
    "for i in range(playerAttemptChoice):\n",
    "    plotColors(i)\n",
    "    if inputs != colorSet:\n",
    "        inputs.clear()\n",
    "        if i+3 == playerAttemptChoice:\n",
    "            print('Reminder: you have 2 attempts left!')\n",
    "        if i+2 == playerAttemptChoice:\n",
    "            print('Reminder: you have 1 attempt left!')\n",
    "        if i+1 == playerAttemptChoice:\n",
    "            print('Oh no! You have used all of your attempts!')\n",
    "            lastQuest = None\n",
    "            while lastQuest != 'y' and lastQuest != 'n':\n",
    "                lastQuest = input('Would you like to view the answer? Enter \"y\" or \"n\"\\n')\n",
    "                if lastQuest == 'y':\n",
    "                    plt.scatter(1,1, s=1000, c = colorSet[0])\n",
    "                    plt.scatter(2,1, s=1000, c = colorSet[1])\n",
    "                    plt.scatter(3,1, s=1000, c = colorSet[2])\n",
    "                    plt.scatter(4,1, s=1000, c = colorSet[3])\n",
    "                    plt.show()\n",
    "                    break\n",
    "                elif lastQuest == 'n':\n",
    "                    print('Better luck next time!')\n",
    "                    break\n",
    "                elif lastQuest != 'y' and lastQuest != 'n':\n",
    "                    print('Invalid response')\n",
    "            break\n",
    "        \n",
    "    elif inputs == colorSet:\n",
    "        print('Congratulations! You found the color sequence in ', i+1, 'attempt(s)!')\n",
    "        break"
   ]
  },
  {
   "cell_type": "markdown",
   "id": "af09cb81",
   "metadata": {},
   "source": [
    "A problem in all of these ways of visualizing the input has been **spelling or capitalization mistakes** made by the viewer when inputting the color. If the user's input is spelled incorrectly or not in lowercase, the code is unable to plot those colors and also does not inform the user of those spelling errors  **until AFTER the player has inputted all four colors**. See below:"
   ]
  },
  {
   "cell_type": "code",
   "execution_count": 39,
   "id": "e8ed6d7c",
   "metadata": {},
   "outputs": [
    {
     "name": "stdout",
     "output_type": "stream",
     "text": [
      "How many attempts would you like to have? \n",
      "The least number of attempts you are allowed is 3 and the most is 15.\n",
      "Please do not spell out the number! Keep it as an integer.\n",
      "3\n",
      "You have chosen 3 attempt(s)!\n",
      "------Attempt  1 ------\n",
      "Color  1\n",
      "Enter color: blu\n",
      "Color  2\n",
      "Enter color: green\n",
      "Color  3\n",
      "Enter color: yallow\n",
      "Color  4\n",
      "Enter color: Red\n",
      "\n",
      "Color  1  does not exist in list\n",
      "\n",
      "Color  2  exists in list, but in wrong place\n",
      "\n",
      "Color  3  does not exist in list\n",
      "\n",
      "Color  4  does not exist in list\n"
     ]
    },
    {
     "ename": "ValueError",
     "evalue": "'c' argument must be a color, a sequence of colors, or a sequence of numbers, not blu",
     "output_type": "error",
     "traceback": [
      "\u001b[0;31m---------------------------------------------------------------------------\u001b[0m",
      "\u001b[0;31mValueError\u001b[0m                                Traceback (most recent call last)",
      "\u001b[0;32m/usr/lib/python3/dist-packages/matplotlib/axes/_axes.py\u001b[0m in \u001b[0;36m_parse_scatter_color_args\u001b[0;34m(c, edgecolors, kwargs, xsize, get_next_color_func)\u001b[0m\n\u001b[1;32m   4220\u001b[0m             \u001b[0;32mtry\u001b[0m\u001b[0;34m:\u001b[0m  \u001b[0;31m# Is 'c' acceptable as PathCollection facecolors?\u001b[0m\u001b[0;34m\u001b[0m\u001b[0;34m\u001b[0m\u001b[0m\n\u001b[0;32m-> 4221\u001b[0;31m                 \u001b[0mcolors\u001b[0m \u001b[0;34m=\u001b[0m \u001b[0mmcolors\u001b[0m\u001b[0;34m.\u001b[0m\u001b[0mto_rgba_array\u001b[0m\u001b[0;34m(\u001b[0m\u001b[0mc\u001b[0m\u001b[0;34m)\u001b[0m\u001b[0;34m\u001b[0m\u001b[0;34m\u001b[0m\u001b[0m\n\u001b[0m\u001b[1;32m   4222\u001b[0m             \u001b[0;32mexcept\u001b[0m \u001b[0;34m(\u001b[0m\u001b[0mTypeError\u001b[0m\u001b[0;34m,\u001b[0m \u001b[0mValueError\u001b[0m\u001b[0;34m)\u001b[0m \u001b[0;32mas\u001b[0m \u001b[0merr\u001b[0m\u001b[0;34m:\u001b[0m\u001b[0;34m\u001b[0m\u001b[0;34m\u001b[0m\u001b[0m\n",
      "\u001b[0;32m/usr/lib/python3/dist-packages/matplotlib/colors.py\u001b[0m in \u001b[0;36mto_rgba_array\u001b[0;34m(c, alpha)\u001b[0m\n\u001b[1;32m    358\u001b[0m     \u001b[0;32mif\u001b[0m \u001b[0misinstance\u001b[0m\u001b[0;34m(\u001b[0m\u001b[0mc\u001b[0m\u001b[0;34m,\u001b[0m \u001b[0mstr\u001b[0m\u001b[0;34m)\u001b[0m\u001b[0;34m:\u001b[0m\u001b[0;34m\u001b[0m\u001b[0;34m\u001b[0m\u001b[0m\n\u001b[0;32m--> 359\u001b[0;31m         raise ValueError(\"Using a string of single character colors as \"\n\u001b[0m\u001b[1;32m    360\u001b[0m                          \u001b[0;34m\"a color sequence is not supported. The colors can \"\u001b[0m\u001b[0;34m\u001b[0m\u001b[0;34m\u001b[0m\u001b[0m\n",
      "\u001b[0;31mValueError\u001b[0m: Using a string of single character colors as a color sequence is not supported. The colors can be passed as an explicit list instead.",
      "\nThe above exception was the direct cause of the following exception:\n",
      "\u001b[0;31mValueError\u001b[0m                                Traceback (most recent call last)",
      "\u001b[0;32m/tmp/ipykernel_6503/1842026879.py\u001b[0m in \u001b[0;36m<module>\u001b[0;34m\u001b[0m\n\u001b[1;32m     60\u001b[0m                 \u001b[0mprint\u001b[0m\u001b[0;34m(\u001b[0m\u001b[0;34m'Invalid response'\u001b[0m\u001b[0;34m)\u001b[0m\u001b[0;34m\u001b[0m\u001b[0;34m\u001b[0m\u001b[0m\n\u001b[1;32m     61\u001b[0m         \u001b[0;32mbreak\u001b[0m\u001b[0;34m\u001b[0m\u001b[0;34m\u001b[0m\u001b[0m\n\u001b[0;32m---> 62\u001b[0;31m     \u001b[0mplotColors\u001b[0m\u001b[0;34m(\u001b[0m\u001b[0mi\u001b[0m\u001b[0;34m)\u001b[0m\u001b[0;34m\u001b[0m\u001b[0;34m\u001b[0m\u001b[0m\n\u001b[0m\u001b[1;32m     63\u001b[0m     \u001b[0;32mif\u001b[0m \u001b[0minputs\u001b[0m \u001b[0;34m!=\u001b[0m \u001b[0mcolorSet\u001b[0m\u001b[0;34m:\u001b[0m\u001b[0;34m\u001b[0m\u001b[0;34m\u001b[0m\u001b[0m\n\u001b[1;32m     64\u001b[0m         \u001b[0minputs\u001b[0m\u001b[0;34m.\u001b[0m\u001b[0mclear\u001b[0m\u001b[0;34m(\u001b[0m\u001b[0;34m)\u001b[0m\u001b[0;34m\u001b[0m\u001b[0;34m\u001b[0m\u001b[0m\n",
      "\u001b[0;32m/tmp/ipykernel_6503/1842026879.py\u001b[0m in \u001b[0;36mplotColors\u001b[0;34m(attemptNum)\u001b[0m\n\u001b[1;32m     27\u001b[0m             \u001b[0mk\u001b[0m\u001b[0;34m+=\u001b[0m\u001b[0;36m1\u001b[0m\u001b[0;34m\u001b[0m\u001b[0;34m\u001b[0m\u001b[0m\n\u001b[1;32m     28\u001b[0m             \u001b[0mx\u001b[0m\u001b[0;34m+=\u001b[0m\u001b[0;36m1\u001b[0m\u001b[0;34m\u001b[0m\u001b[0;34m\u001b[0m\u001b[0m\n\u001b[0;32m---> 29\u001b[0;31m     \u001b[0mplt\u001b[0m\u001b[0;34m.\u001b[0m\u001b[0mscatter\u001b[0m\u001b[0;34m(\u001b[0m\u001b[0;36m1\u001b[0m\u001b[0;34m,\u001b[0m\u001b[0;36m1\u001b[0m\u001b[0;34m,\u001b[0m \u001b[0ms\u001b[0m\u001b[0;34m=\u001b[0m\u001b[0;36m1000\u001b[0m\u001b[0;34m,\u001b[0m \u001b[0mc\u001b[0m \u001b[0;34m=\u001b[0m \u001b[0minputs\u001b[0m\u001b[0;34m[\u001b[0m\u001b[0;36m0\u001b[0m\u001b[0;34m]\u001b[0m\u001b[0;34m)\u001b[0m\u001b[0;34m\u001b[0m\u001b[0;34m\u001b[0m\u001b[0m\n\u001b[0m\u001b[1;32m     30\u001b[0m     \u001b[0mplt\u001b[0m\u001b[0;34m.\u001b[0m\u001b[0mscatter\u001b[0m\u001b[0;34m(\u001b[0m\u001b[0;36m2\u001b[0m\u001b[0;34m,\u001b[0m\u001b[0;36m1\u001b[0m\u001b[0;34m,\u001b[0m \u001b[0ms\u001b[0m\u001b[0;34m=\u001b[0m\u001b[0;36m1000\u001b[0m\u001b[0;34m,\u001b[0m \u001b[0mc\u001b[0m \u001b[0;34m=\u001b[0m \u001b[0minputs\u001b[0m\u001b[0;34m[\u001b[0m\u001b[0;36m1\u001b[0m\u001b[0;34m]\u001b[0m\u001b[0;34m)\u001b[0m\u001b[0;34m\u001b[0m\u001b[0;34m\u001b[0m\u001b[0m\n\u001b[1;32m     31\u001b[0m     \u001b[0mplt\u001b[0m\u001b[0;34m.\u001b[0m\u001b[0mscatter\u001b[0m\u001b[0;34m(\u001b[0m\u001b[0;36m3\u001b[0m\u001b[0;34m,\u001b[0m\u001b[0;36m1\u001b[0m\u001b[0;34m,\u001b[0m \u001b[0ms\u001b[0m\u001b[0;34m=\u001b[0m\u001b[0;36m1000\u001b[0m\u001b[0;34m,\u001b[0m \u001b[0mc\u001b[0m \u001b[0;34m=\u001b[0m \u001b[0minputs\u001b[0m\u001b[0;34m[\u001b[0m\u001b[0;36m2\u001b[0m\u001b[0;34m]\u001b[0m\u001b[0;34m)\u001b[0m\u001b[0;34m\u001b[0m\u001b[0;34m\u001b[0m\u001b[0m\n",
      "\u001b[0;32m/usr/lib/python3/dist-packages/matplotlib/pyplot.py\u001b[0m in \u001b[0;36mscatter\u001b[0;34m(x, y, s, c, marker, cmap, norm, vmin, vmax, alpha, linewidths, edgecolors, plotnonfinite, data, **kwargs)\u001b[0m\n\u001b[1;32m   2805\u001b[0m         \u001b[0mvmin\u001b[0m\u001b[0;34m=\u001b[0m\u001b[0;32mNone\u001b[0m\u001b[0;34m,\u001b[0m \u001b[0mvmax\u001b[0m\u001b[0;34m=\u001b[0m\u001b[0;32mNone\u001b[0m\u001b[0;34m,\u001b[0m \u001b[0malpha\u001b[0m\u001b[0;34m=\u001b[0m\u001b[0;32mNone\u001b[0m\u001b[0;34m,\u001b[0m \u001b[0mlinewidths\u001b[0m\u001b[0;34m=\u001b[0m\u001b[0;32mNone\u001b[0m\u001b[0;34m,\u001b[0m \u001b[0;34m*\u001b[0m\u001b[0;34m,\u001b[0m\u001b[0;34m\u001b[0m\u001b[0;34m\u001b[0m\u001b[0m\n\u001b[1;32m   2806\u001b[0m         edgecolors=None, plotnonfinite=False, data=None, **kwargs):\n\u001b[0;32m-> 2807\u001b[0;31m     __ret = gca().scatter(\n\u001b[0m\u001b[1;32m   2808\u001b[0m         \u001b[0mx\u001b[0m\u001b[0;34m,\u001b[0m \u001b[0my\u001b[0m\u001b[0;34m,\u001b[0m \u001b[0ms\u001b[0m\u001b[0;34m=\u001b[0m\u001b[0ms\u001b[0m\u001b[0;34m,\u001b[0m \u001b[0mc\u001b[0m\u001b[0;34m=\u001b[0m\u001b[0mc\u001b[0m\u001b[0;34m,\u001b[0m \u001b[0mmarker\u001b[0m\u001b[0;34m=\u001b[0m\u001b[0mmarker\u001b[0m\u001b[0;34m,\u001b[0m \u001b[0mcmap\u001b[0m\u001b[0;34m=\u001b[0m\u001b[0mcmap\u001b[0m\u001b[0;34m,\u001b[0m \u001b[0mnorm\u001b[0m\u001b[0;34m=\u001b[0m\u001b[0mnorm\u001b[0m\u001b[0;34m,\u001b[0m\u001b[0;34m\u001b[0m\u001b[0;34m\u001b[0m\u001b[0m\n\u001b[1;32m   2809\u001b[0m         \u001b[0mvmin\u001b[0m\u001b[0;34m=\u001b[0m\u001b[0mvmin\u001b[0m\u001b[0;34m,\u001b[0m \u001b[0mvmax\u001b[0m\u001b[0;34m=\u001b[0m\u001b[0mvmax\u001b[0m\u001b[0;34m,\u001b[0m \u001b[0malpha\u001b[0m\u001b[0;34m=\u001b[0m\u001b[0malpha\u001b[0m\u001b[0;34m,\u001b[0m \u001b[0mlinewidths\u001b[0m\u001b[0;34m=\u001b[0m\u001b[0mlinewidths\u001b[0m\u001b[0;34m,\u001b[0m\u001b[0;34m\u001b[0m\u001b[0;34m\u001b[0m\u001b[0m\n",
      "\u001b[0;32m/usr/lib/python3/dist-packages/matplotlib/__init__.py\u001b[0m in \u001b[0;36minner\u001b[0;34m(ax, data, *args, **kwargs)\u001b[0m\n\u001b[1;32m   1414\u001b[0m     \u001b[0;32mdef\u001b[0m \u001b[0minner\u001b[0m\u001b[0;34m(\u001b[0m\u001b[0max\u001b[0m\u001b[0;34m,\u001b[0m \u001b[0;34m*\u001b[0m\u001b[0margs\u001b[0m\u001b[0;34m,\u001b[0m \u001b[0mdata\u001b[0m\u001b[0;34m=\u001b[0m\u001b[0;32mNone\u001b[0m\u001b[0;34m,\u001b[0m \u001b[0;34m**\u001b[0m\u001b[0mkwargs\u001b[0m\u001b[0;34m)\u001b[0m\u001b[0;34m:\u001b[0m\u001b[0;34m\u001b[0m\u001b[0;34m\u001b[0m\u001b[0m\n\u001b[1;32m   1415\u001b[0m         \u001b[0;32mif\u001b[0m \u001b[0mdata\u001b[0m \u001b[0;32mis\u001b[0m \u001b[0;32mNone\u001b[0m\u001b[0;34m:\u001b[0m\u001b[0;34m\u001b[0m\u001b[0;34m\u001b[0m\u001b[0m\n\u001b[0;32m-> 1416\u001b[0;31m             \u001b[0;32mreturn\u001b[0m \u001b[0mfunc\u001b[0m\u001b[0;34m(\u001b[0m\u001b[0max\u001b[0m\u001b[0;34m,\u001b[0m \u001b[0;34m*\u001b[0m\u001b[0mmap\u001b[0m\u001b[0;34m(\u001b[0m\u001b[0msanitize_sequence\u001b[0m\u001b[0;34m,\u001b[0m \u001b[0margs\u001b[0m\u001b[0;34m)\u001b[0m\u001b[0;34m,\u001b[0m \u001b[0;34m**\u001b[0m\u001b[0mkwargs\u001b[0m\u001b[0;34m)\u001b[0m\u001b[0;34m\u001b[0m\u001b[0;34m\u001b[0m\u001b[0m\n\u001b[0m\u001b[1;32m   1417\u001b[0m \u001b[0;34m\u001b[0m\u001b[0m\n\u001b[1;32m   1418\u001b[0m         \u001b[0mbound\u001b[0m \u001b[0;34m=\u001b[0m \u001b[0mnew_sig\u001b[0m\u001b[0;34m.\u001b[0m\u001b[0mbind\u001b[0m\u001b[0;34m(\u001b[0m\u001b[0max\u001b[0m\u001b[0;34m,\u001b[0m \u001b[0;34m*\u001b[0m\u001b[0margs\u001b[0m\u001b[0;34m,\u001b[0m \u001b[0;34m**\u001b[0m\u001b[0mkwargs\u001b[0m\u001b[0;34m)\u001b[0m\u001b[0;34m\u001b[0m\u001b[0;34m\u001b[0m\u001b[0m\n",
      "\u001b[0;32m/usr/lib/python3/dist-packages/matplotlib/axes/_axes.py\u001b[0m in \u001b[0;36mscatter\u001b[0;34m(self, x, y, s, c, marker, cmap, norm, vmin, vmax, alpha, linewidths, edgecolors, plotnonfinite, **kwargs)\u001b[0m\n\u001b[1;32m   4385\u001b[0m             \u001b[0morig_edgecolor\u001b[0m \u001b[0;34m=\u001b[0m \u001b[0mkwargs\u001b[0m\u001b[0;34m.\u001b[0m\u001b[0mget\u001b[0m\u001b[0;34m(\u001b[0m\u001b[0;34m'edgecolor'\u001b[0m\u001b[0;34m,\u001b[0m \u001b[0;32mNone\u001b[0m\u001b[0;34m)\u001b[0m\u001b[0;34m\u001b[0m\u001b[0;34m\u001b[0m\u001b[0m\n\u001b[1;32m   4386\u001b[0m         \u001b[0mc\u001b[0m\u001b[0;34m,\u001b[0m \u001b[0mcolors\u001b[0m\u001b[0;34m,\u001b[0m \u001b[0medgecolors\u001b[0m \u001b[0;34m=\u001b[0m\u001b[0;31m \u001b[0m\u001b[0;31m\\\u001b[0m\u001b[0;34m\u001b[0m\u001b[0;34m\u001b[0m\u001b[0m\n\u001b[0;32m-> 4387\u001b[0;31m             self._parse_scatter_color_args(\n\u001b[0m\u001b[1;32m   4388\u001b[0m                 \u001b[0mc\u001b[0m\u001b[0;34m,\u001b[0m \u001b[0medgecolors\u001b[0m\u001b[0;34m,\u001b[0m \u001b[0mkwargs\u001b[0m\u001b[0;34m,\u001b[0m \u001b[0mx\u001b[0m\u001b[0;34m.\u001b[0m\u001b[0msize\u001b[0m\u001b[0;34m,\u001b[0m\u001b[0;34m\u001b[0m\u001b[0;34m\u001b[0m\u001b[0m\n\u001b[1;32m   4389\u001b[0m                 get_next_color_func=self._get_patches_for_fill.get_next_color)\n",
      "\u001b[0;32m/usr/lib/python3/dist-packages/matplotlib/axes/_axes.py\u001b[0m in \u001b[0;36m_parse_scatter_color_args\u001b[0;34m(c, edgecolors, kwargs, xsize, get_next_color_func)\u001b[0m\n\u001b[1;32m   4228\u001b[0m                     \u001b[0;31m# Both the mapping *and* the RGBA conversion failed: pretty\u001b[0m\u001b[0;34m\u001b[0m\u001b[0;34m\u001b[0m\u001b[0m\n\u001b[1;32m   4229\u001b[0m                     \u001b[0;31m# severe failure => one may appreciate a verbose feedback.\u001b[0m\u001b[0;34m\u001b[0m\u001b[0;34m\u001b[0m\u001b[0m\n\u001b[0;32m-> 4230\u001b[0;31m                     raise ValueError(\n\u001b[0m\u001b[1;32m   4231\u001b[0m                         \u001b[0;34mf\"'c' argument must be a color, a sequence of colors, \"\u001b[0m\u001b[0;34m\u001b[0m\u001b[0;34m\u001b[0m\u001b[0m\n\u001b[1;32m   4232\u001b[0m                         f\"or a sequence of numbers, not {c}\") from err\n",
      "\u001b[0;31mValueError\u001b[0m: 'c' argument must be a color, a sequence of colors, or a sequence of numbers, not blu"
     ]
    },
    {
     "data": {
      "image/png": "[encoded data removed]",
      "text/plain": [
       "<Figure size 432x288 with 1 Axes>"
      ]
     },
     "metadata": {
      "needs_background": "light"
     },
     "output_type": "display_data"
    }
   ],
   "source": [
    "inputs =[]\n",
    "\n",
    "def plotColors(attemptNum):\n",
    "    \n",
    "    \n",
    "    print('------Attempt ', i+1, '------')\n",
    "\n",
    "    for item in range(len(rawSet)):\n",
    "        print('Color ', item+1)\n",
    "        guess = input('Enter color: ')\n",
    "        inputs.append(guess)\n",
    "        \n",
    "    k = 0\n",
    "    x = 1\n",
    "    for k in range(len(rawSet)):\n",
    "        if colorSet[k] == inputs[k]:\n",
    "            plt.scatter(x,2,s=1000, c=inputs[k])            \n",
    "            k+=1\n",
    "            x+=1\n",
    "        elif colorSet[k] != inputs[k]:\n",
    "            plt.scatter(x,2,s=1000, c='black')    \n",
    "            print('')\n",
    "            if inputs[k] in colorSet:\n",
    "                print('Color ', k+1,' exists in list, but in wrong place')\n",
    "            else:\n",
    "                print('Color ', k+1, ' does not exist in list')\n",
    "            k+=1\n",
    "            x+=1\n",
    "    plt.scatter(1,1, s=1000, c = inputs[0])\n",
    "    plt.scatter(2,1, s=1000, c = inputs[1])\n",
    "    plt.scatter(3,1, s=1000, c = inputs[2])\n",
    "    plt.scatter(4,1, s=1000, c = inputs[3])\n",
    "    plt.show()    \n",
    "    \n",
    "playerAttemptChoice = 0\n",
    "while playerAttemptChoice>15 or playerAttemptChoice<3:\n",
    "    playerAttemptChoice = int(input('How many attempts would you like to have? \\nThe least number of attempts you are allowed is 3 and the most is 15.\\nPlease do not spell out the number! Keep it as an integer.\\n'))\n",
    "    if playerAttemptChoice>15 or playerAttemptChoice<3:\n",
    "        print('Oops! Looks like you entered an invalid number of attempts. Please keep your choice between 3 and 15!') ## what if user enters a string?\n",
    "    else:\n",
    "        print('You have chosen', playerAttemptChoice, 'attempt(s)!')\n",
    "\n",
    "for i in range(playerAttemptChoice):\n",
    "    plotColors(i)\n",
    "    if inputs != colorSet:\n",
    "        inputs.clear()\n",
    "        if i+3 == playerAttemptChoice:\n",
    "            print('Reminder: you have 2 attempts left!')\n",
    "        if i+2 == playerAttemptChoice:\n",
    "            print('Reminder: you have 1 attempt left!')\n",
    "        if i+1 == playerAttemptChoice:\n",
    "            print('Oh no! You have used all of your attempts!')\n",
    "            lastQuest = None\n",
    "            while lastQuest != 'y' and lastQuest != 'n':\n",
    "                lastQuest = input('Would you like to view the answer? Enter \"y\" or \"n\"\\n')\n",
    "                if lastQuest == 'y':\n",
    "                    plt.scatter(1,1, s=1000, c = colorSet[0])\n",
    "                    plt.scatter(2,1, s=1000, c = colorSet[1])\n",
    "                    plt.scatter(3,1, s=1000, c = colorSet[2])\n",
    "                    plt.scatter(4,1, s=1000, c = colorSet[3])\n",
    "                    plt.show()\n",
    "                    break\n",
    "                elif lastQuest == 'n':\n",
    "                    print('Better luck next time!')\n",
    "                    break\n",
    "                elif lastQuest != 'y' and lastQuest != 'n':\n",
    "                    print('Invalid response')\n",
    "            break\n",
    "        \n",
    "    elif inputs == colorSet:\n",
    "        print('Congratulations! You found the color sequence in ', i+1, 'attempt(s)!')\n",
    "        break"
   ]
  },
  {
   "cell_type": "markdown",
   "id": "e0cf31d6",
   "metadata": {},
   "source": [
    "### In this next version of the function `plotColors()` I've attempted to fix it. \n",
    "I do this by restricting the value of the input from the viewer. \n",
    "I used a `while` loop that runs for as long as the 'guess' value does not equal any of the four colors (red, yellow, green, blue) to: \n",
    "- check (using an `if` statement) whether the input is in lowercase. If not, I make it lower case. \n",
    "- check if 'guess' doesn't equal any of the valid colors, if so, prompt the user to enter the SAME color again, if not, increase the value of 'item' and prompt the viewer to input the NEXT color. "
   ]
  },
  {
   "cell_type": "code",
   "execution_count": 28,
   "id": "5a89f28c",
   "metadata": {},
   "outputs": [
    {
     "name": "stdout",
     "output_type": "stream",
     "text": [
      "Hello there, gamer! Here are the colors you can pick from for this game: red, yellow, green, and blue!\n",
      "How many attempts would you like to have? \n",
      "The least number of attempts you are allowed is 3 and the most is 15.\n",
      "Please do not spell out the number! Keep it as an integer.\n",
      "3\n",
      "You have chosen 3 attempt(s)!\n",
      "------Attempt  1 ------\n",
      "Color  1\n",
      "Enter color: pink\n",
      "Oops! Looks like you either misspelled your color or entered a color outside of the choices given above. Try again!\n",
      "\n",
      "Color  1\n",
      "Enter color: rEd\n",
      "Color  2\n",
      "Enter color: blu\n",
      "Oops! Looks like you either misspelled your color or entered a color outside of the choices given above. Try again!\n",
      "\n",
      "Color  2\n",
      "Enter color: blue\n",
      "Color  3\n",
      "Enter color: GREEN\n",
      "Color  4\n",
      "Enter color: yellow\n",
      "\n",
      "Color  1  exists in list, but in wrong place\n",
      "\n",
      "Color  2  does not exist in list\n",
      "\n",
      "Color  3  exists in list, but in wrong place\n",
      "\n",
      "Color  4  exists in list, but in wrong place\n"
     ]
    },
    {
     "data": {
      "image/png": "[encoded data removed]",
      "text/plain": [
       "<Figure size 432x288 with 1 Axes>"
      ]
     },
     "metadata": {
      "needs_background": "light"
     },
     "output_type": "display_data"
    },
    {
     "name": "stdout",
     "output_type": "stream",
     "text": [
      "Reminder: you have 2 attempts left!\n",
      "------Attempt  2 ------\n",
      "Color  1\n",
      "Enter color: blue\n",
      "Color  2\n",
      "Enter color: red\n",
      "Color  3\n",
      "Enter color: green\n",
      "Color  4\n",
      "Enter color: yallow\n",
      "Oops! Looks like you either misspelled your color or entered a color outside of the choices given above. Try again!\n",
      "\n",
      "Color  4\n",
      "Enter color: yellow\n",
      "\n",
      "Color  1  does not exist in list\n",
      "\n",
      "Color  2  exists in list, but in wrong place\n",
      "\n",
      "Color  3  exists in list, but in wrong place\n",
      "\n",
      "Color  4  exists in list, but in wrong place\n"
     ]
    },
    {
     "data": {
      "image/png": "[encoded data removed]",
      "text/plain": [
       "<Figure size 432x288 with 1 Axes>"
      ]
     },
     "metadata": {
      "needs_background": "light"
     },
     "output_type": "display_data"
    },
    {
     "name": "stdout",
     "output_type": "stream",
     "text": [
      "Reminder: you have 1 attempt left!\n",
      "------Attempt  3 ------\n",
      "Color  1\n",
      "Enter color: green\n",
      "Color  2\n",
      "Enter color: yellow\n",
      "Color  3\n",
      "Enter color: red\n",
      "Color  4\n",
      "Enter color: blue\n",
      "\n",
      "Color  2  exists in list, but in wrong place\n",
      "\n",
      "Color  3  exists in list, but in wrong place\n",
      "\n",
      "Color  4  does not exist in list\n"
     ]
    },
    {
     "data": {
      "image/png": "[encoded data removed]",
      "text/plain": [
       "<Figure size 432x288 with 1 Axes>"
      ]
     },
     "metadata": {
      "needs_background": "light"
     },
     "output_type": "display_data"
    },
    {
     "name": "stdout",
     "output_type": "stream",
     "text": [
      "Oh no! You have used all of your attempts!\n",
      "Would you like to view the answer? Enter \"y\" or \"n\"\n",
      "y\n"
     ]
    },
    {
     "data": {
      "image/png": "[encoded data removed]",
      "text/plain": [
       "<Figure size 432x288 with 1 Axes>"
      ]
     },
     "metadata": {
      "needs_background": "light"
     },
     "output_type": "display_data"
    }
   ],
   "source": [
    "inputs =[]\n",
    "\n",
    "\n",
    "print('Hello there, gamer! Here are the colors you can pick from for this game: red, yellow, green, and blue!')\n",
    "\n",
    "def plotColors(attemptNum):\n",
    "    \n",
    "    guess = None\n",
    "    \n",
    "    item = 0\n",
    "    print('------Attempt ', i+1, '------')\n",
    "    \n",
    "    while guess != 'red' and guess != 'blue' and guess != 'yellow' and guess != 'green' and item<len(rawSet):\n",
    "        print('Color ', item+1)\n",
    "        guess = input('Enter color: ')\n",
    "        if guess.islower() == False:\n",
    "            guess = guess.lower()\n",
    "        if guess != 'red' and guess != 'blue' and guess != 'yellow' and guess != 'green':\n",
    "            print('Oops! Looks like you either misspelled your color or entered a color outside of the choices given above. Try again!\\n')\n",
    "        else:\n",
    "            inputs.append(guess)\n",
    "            guess = None\n",
    "            item+=1\n",
    "        \n",
    "    k = 0\n",
    "    x = 1\n",
    "    for k in range(len(rawSet)):\n",
    "        if colorSet[k] == inputs[k]:\n",
    "            plt.scatter(x,2,s=1000, c=inputs[k])            \n",
    "            k+=1\n",
    "            x+=1\n",
    "        elif colorSet[k] != inputs[k]:\n",
    "            plt.scatter(x,2,s=1000, c='black')    \n",
    "            print('')\n",
    "            if inputs[k] in colorSet:\n",
    "                print('Color ', k+1,' exists in list, but in wrong place')\n",
    "            else:\n",
    "                print('Color ', k+1, ' does not exist in list')\n",
    "            k+=1\n",
    "            x+=1\n",
    "    plt.scatter(1,1, s=1000, c = inputs[0])\n",
    "    plt.scatter(2,1, s=1000, c = inputs[1])\n",
    "    plt.scatter(3,1, s=1000, c = inputs[2])\n",
    "    plt.scatter(4,1, s=1000, c = inputs[3])\n",
    "    plt.show()    \n",
    "    \n",
    "playerAttemptChoice = 0\n",
    "while playerAttemptChoice>15 or playerAttemptChoice<3:\n",
    "    playerAttemptChoice = int(input('How many attempts would you like to have? \\nThe least number of attempts you are allowed is 3 and the most is 15.\\nPlease do not spell out the number! Keep it as an integer.\\n'))\n",
    "    if playerAttemptChoice>15 or playerAttemptChoice<3:\n",
    "        print('Oops! Looks like you entered an invalid number of attempts. Please keep your choice between 3 and 15!') ## what if user enters a string?\n",
    "    else:\n",
    "        print('You have chosen', playerAttemptChoice, 'attempt(s)!')\n",
    "\n",
    "for i in range(playerAttemptChoice):\n",
    "    plotColors(i)\n",
    "    if inputs != colorSet:\n",
    "        inputs.clear()\n",
    "        if i+3 == playerAttemptChoice:\n",
    "            print('Reminder: you have 2 attempts left!')\n",
    "        if i+2 == playerAttemptChoice:\n",
    "            print('Reminder: you have 1 attempt left!')\n",
    "        if i+1 == playerAttemptChoice:\n",
    "            print('Oh no! You have used all of your attempts!')\n",
    "            lastQuest = None\n",
    "            while lastQuest != 'y' and lastQuest != 'n':\n",
    "                lastQuest = input('Would you like to view the answer? Enter \"y\" or \"n\"\\n')\n",
    "                if lastQuest == 'y':\n",
    "                    plt.scatter(1,1, s=1000, c = colorSet[0])\n",
    "                    plt.scatter(2,1, s=1000, c = colorSet[1])\n",
    "                    plt.scatter(3,1, s=1000, c = colorSet[2])\n",
    "                    plt.scatter(4,1, s=1000, c = colorSet[3])\n",
    "                    plt.show()\n",
    "                    break\n",
    "                elif lastQuest == 'n':\n",
    "                    print('Better luck next time!')\n",
    "                    break\n",
    "                elif lastQuest != 'y' and lastQuest != 'n':\n",
    "                    print('Invalid response')\n",
    "            break\n",
    "        \n",
    "    elif inputs == colorSet:\n",
    "        print('Congratulations! You found the color sequence in ', i+1, 'attempt(s)!')\n",
    "        break"
   ]
  },
  {
   "cell_type": "markdown",
   "id": "7d3c1644",
   "metadata": {},
   "source": [
    "At this point, **most of the possible problems in the code for this game have been resolved**. So, I want to use the last couple of versions of the same function to clean up the visuals of the plot and to provide the player with more information about the game. "
   ]
  },
  {
   "cell_type": "markdown",
   "id": "2c8e8b0b",
   "metadata": {},
   "source": [
    "### In this version, I tweaked the look of the plot.\n",
    "I did this by **altering the plot size, y limit and x limit, and giving the plot a title and x and y ticks** to make it more readable for the user. "
   ]
  },
  {
   "cell_type": "code",
   "execution_count": 31,
   "id": "53d417a0",
   "metadata": {},
   "outputs": [
    {
     "name": "stdout",
     "output_type": "stream",
     "text": [
      "Hello there, gamer! Here are the colors you can pick from for this game: red, yellow, green, and blue!\n",
      "How many attempts would you like to have? \n",
      "The least number of attempts you are allowed is 3 and the most is 15.\n",
      "Please do not spell out the number! Keep it as an integer.\n",
      "3\n",
      "You have chosen 3 attempt(s)!\n",
      "------Attempt  1 ------\n",
      "Color  1\n",
      "Enter color: red\n",
      "Color  2\n",
      "Enter color: red\n",
      "Color  3\n",
      "Enter color: red\n",
      "Color  4\n",
      "Enter color: red\n",
      "\n",
      "Hint\n",
      "Color  1  exists in list, but in wrong place\n",
      "\n",
      "Hint\n",
      "Color  2  exists in list, but in wrong place\n",
      "\n",
      "Hint\n",
      "Color  3  exists in list, but in wrong place\n"
     ]
    },
    {
     "data": {
      "image/png": "[encoded data removed]",
      "text/plain": [
       "<Figure size 432x144 with 1 Axes>"
      ]
     },
     "metadata": {
      "needs_background": "light"
     },
     "output_type": "display_data"
    },
    {
     "name": "stdout",
     "output_type": "stream",
     "text": [
      "Reminder: you have 2 attempts left!\n",
      "------Attempt  2 ------\n",
      "Color  1\n",
      "Enter color: red\n",
      "Color  2\n",
      "Enter color: red\n",
      "Color  3\n",
      "Enter color: red\n",
      "Color  4\n",
      "Enter color: red\n",
      "\n",
      "Hint\n",
      "Color  1  exists in list, but in wrong place\n",
      "\n",
      "Hint\n",
      "Color  2  exists in list, but in wrong place\n",
      "\n",
      "Hint\n",
      "Color  3  exists in list, but in wrong place\n"
     ]
    },
    {
     "data": {
      "image/png": "[encoded data removed]",
      "text/plain": [
       "<Figure size 432x144 with 1 Axes>"
      ]
     },
     "metadata": {
      "needs_background": "light"
     },
     "output_type": "display_data"
    },
    {
     "name": "stdout",
     "output_type": "stream",
     "text": [
      "Reminder: you have 1 attempt left!\n",
      "------Attempt  3 ------\n",
      "Color  1\n",
      "Enter color: red\n",
      "Color  2\n",
      "Enter color: red\n",
      "Color  3\n",
      "Enter color: red\n",
      "Color  4\n",
      "Enter color: red\n",
      "\n",
      "Hint\n",
      "Color  1  exists in list, but in wrong place\n",
      "\n",
      "Hint\n",
      "Color  2  exists in list, but in wrong place\n",
      "\n",
      "Hint\n",
      "Color  3  exists in list, but in wrong place\n"
     ]
    },
    {
     "data": {
      "image/png": "[encoded data removed]",
      "text/plain": [
       "<Figure size 432x144 with 1 Axes>"
      ]
     },
     "metadata": {
      "needs_background": "light"
     },
     "output_type": "display_data"
    },
    {
     "name": "stdout",
     "output_type": "stream",
     "text": [
      "Oh no! You have used all of your attempts!\n",
      "Would you like to view the answer? Enter \"y\" or \"n\"\n",
      "y\n"
     ]
    },
    {
     "data": {
      "image/png": "[encoded data removed]",
      "text/plain": [
       "<Figure size 432x144 with 1 Axes>"
      ]
     },
     "metadata": {
      "needs_background": "light"
     },
     "output_type": "display_data"
    }
   ],
   "source": [
    "inputs =[]\n",
    "\n",
    "\n",
    "print('Hello there, gamer! Here are the colors you can pick from for this game: red, yellow, green, and blue!')\n",
    "\n",
    "def plotColors(attemptNum):\n",
    "    \n",
    "    guess = None\n",
    "    \n",
    "    item = 0\n",
    "    print('------Attempt ', i+1, '------')\n",
    "    \n",
    "    while guess != 'red' and guess != 'blue' and guess != 'yellow' and guess != 'green' and item<len(rawSet):\n",
    "        print('Color ', item+1)\n",
    "        guess = input('Enter color: ')\n",
    "        if guess.islower() == False:\n",
    "            guess = guess.lower()\n",
    "        if guess != 'red' and guess != 'blue' and guess != 'yellow' and guess != 'green':\n",
    "            print('Oops! Looks like you either misspelled your color or entered a color outside of the choices given above. Try again!\\n')\n",
    "        else:\n",
    "            inputs.append(guess)\n",
    "            guess = None\n",
    "            item+=1\n",
    "        \n",
    "    k = 0\n",
    "    x = 1\n",
    "    plt.figure().set_figheight(2)\n",
    "    plt.ylim(0.5,2.5)\n",
    "    plt.xlim(0.5,4.5)\n",
    "    plt.title('If the color in the hidden sequence matches your guess, you cracked that color!',size = 15)\n",
    "    plt.yticks([1,2],['Your guess','Hidden sequence'],fontsize=20)\n",
    "    plt.xticks([1,2,3,4],['Color 1','Color 2','Color 3','Color 4'],fontsize=20)\n",
    "    for k in range(len(rawSet)):\n",
    "        if colorSet[k] == inputs[k]:\n",
    "            plt.scatter(x,2,s=2000, c=inputs[k])            \n",
    "            k+=1\n",
    "            x+=1\n",
    "        elif colorSet[k] != inputs[k]:\n",
    "            plt.scatter(x,2,s=2000, c='black')    \n",
    "            print('')\n",
    "            print('Hint')\n",
    "            if inputs[k] in colorSet:\n",
    "                print('Color ', k+1,' exists in list, but in wrong place')\n",
    "            else:\n",
    "                print('Color ', k+1, ' does not exist in list')\n",
    "            k+=1\n",
    "            x+=1\n",
    "    plt.scatter(1,1, s=2000, c = inputs[0])\n",
    "    plt.scatter(2,1, s=2000, c = inputs[1])\n",
    "    plt.scatter(3,1, s=2000, c = inputs[2])\n",
    "    plt.scatter(4,1, s=2000, c = inputs[3])\n",
    "    plt.show()    \n",
    "    \n",
    "playerAttemptChoice = 0\n",
    "while playerAttemptChoice>15 or playerAttemptChoice<3:\n",
    "    playerAttemptChoice = int(input('How many attempts would you like to have? \\nThe least number of attempts you are allowed is 3 and the most is 15.\\nPlease do not spell out the number! Keep it as an integer.\\n'))\n",
    "    if playerAttemptChoice>15 or playerAttemptChoice<3:\n",
    "        print('Oops! Looks like you entered an invalid number of attempts. Please keep your choice between 3 and 15!') ## what if user enters a string?\n",
    "    else:\n",
    "        print('You have chosen', playerAttemptChoice, 'attempt(s)!')\n",
    "\n",
    "for i in range(playerAttemptChoice):\n",
    "    plotColors(i)\n",
    "    if inputs != colorSet:\n",
    "        inputs.clear()\n",
    "        if i+3 == playerAttemptChoice:\n",
    "            print('Reminder: you have 2 attempts left!')\n",
    "        if i+2 == playerAttemptChoice:\n",
    "            print('Reminder: you have 1 attempt left!')\n",
    "        if i+1 == playerAttemptChoice:\n",
    "            print('Oh no! You have used all of your attempts!')\n",
    "            lastQuest = None\n",
    "            while lastQuest != 'y' and lastQuest != 'n':\n",
    "                lastQuest = input('Would you like to view the answer? Enter \"y\" or \"n\"\\n')\n",
    "                if lastQuest == 'y':\n",
    "                    plt.figure().set_figheight(2)\n",
    "                    plt.ylim(0.5,1.5)\n",
    "                    plt.xlim(0.5,4.5)\n",
    "                    plt.yticks([1],['Correct answer'],fontsize=20)\n",
    "                    plt.xticks([1,2,3,4],['Color 1','Color 2','Color 3','Color 4'],fontsize=20)\n",
    "                    plt.scatter(1,1, s=2000, c = colorSet[0])\n",
    "                    plt.scatter(2,1, s=2000, c = colorSet[1])\n",
    "                    plt.scatter(3,1, s=2000, c = colorSet[2])\n",
    "                    plt.scatter(4,1, s=2000, c = colorSet[3])\n",
    "                    plt.show()\n",
    "                    break\n",
    "                elif lastQuest == 'n':\n",
    "                    print('Better luck next time!')\n",
    "                    break\n",
    "                elif lastQuest != 'y' and lastQuest != 'n':\n",
    "                    print('Invalid response')\n",
    "            break\n",
    "        \n",
    "    elif inputs == colorSet:\n",
    "        print('Congratulations! You found the color sequence in ', i+1, 'attempt(s)!')\n",
    "        break"
   ]
  },
  {
   "cell_type": "markdown",
   "id": "b9bbbb44",
   "metadata": {},
   "source": [
    "### In the final version,\n",
    "**I included a small introduction to the object of the game**, along with an example of what the user can expect with the visual. "
   ]
  },
  {
   "cell_type": "code",
   "execution_count": 12,
   "id": "fb8638b4",
   "metadata": {},
   "outputs": [
    {
     "name": "stdout",
     "output_type": "stream",
     "text": [
      "Hello there, gamer! Ready to crack a puzzle? \n",
      "Your goal in this game is to find the correct sequence of colors generated by the code\n",
      "using your superior deduction skills and just a little bit of guess work.\n",
      "After your guess for each attempt, you'll be able to see which colors from your input\n",
      "matched correctly, like this:\n"
     ]
    },
    {
     "data": {
      "image/png": "[encoded data removed]",
      "text/plain": [
       "<Figure size 432x144 with 1 Axes>"
      ]
     },
     "metadata": {
      "needs_background": "light"
     },
     "output_type": "display_data"
    },
    {
     "name": "stdout",
     "output_type": "stream",
     "text": [
      "Don't worry, for every color you don't pick correctly, you'll get a hint. Each sequence has four items and is made of the following colors: red, yellow, green, and blue.\n",
      "Remember: a color can appear more than once in the same sequence and sometimes isn't involved in the correct sequence at all.\n",
      "Good luck!\n",
      "How many attempts would you like to have? \n",
      "The least number of attempts you are allowed is 3 and the most is 15.\n",
      "Please do not spell out the number! Keep it as an integer.\n",
      "3\n",
      "You have chosen 3 attempt(s)!\n",
      "------Attempt  1 ------\n",
      "Color  1\n",
      "Enter color: yellow\n",
      "Color  2\n",
      "Enter color: green\n",
      "Color  3\n",
      "Enter color: red\n",
      "Color  4\n",
      "Enter color: red\n",
      "\n",
      "Hint:\n",
      "Color  1  exists in list, but in wrong place\n",
      "\n",
      "Hint:\n",
      "Color  3  exists in list, but in wrong place\n"
     ]
    },
    {
     "data": {
      "image/png": "[encoded data removed]",
      "text/plain": [
       "<Figure size 432x144 with 1 Axes>"
      ]
     },
     "metadata": {
      "needs_background": "light"
     },
     "output_type": "display_data"
    },
    {
     "name": "stdout",
     "output_type": "stream",
     "text": [
      "Reminder: you have 2 attempts left!\n",
      "------Attempt  2 ------\n",
      "Color  1\n",
      "Enter color: green\n",
      "Color  2\n",
      "Enter color: green\n",
      "Color  3\n",
      "Enter color: yellow\n",
      "Color  4\n",
      "Enter color: red\n"
     ]
    },
    {
     "data": {
      "image/png": "[encoded data removed]",
      "text/plain": [
       "<Figure size 432x144 with 1 Axes>"
      ]
     },
     "metadata": {
      "needs_background": "light"
     },
     "output_type": "display_data"
    },
    {
     "name": "stdout",
     "output_type": "stream",
     "text": [
      "Congratulations! You found the color sequence in  2 attempt(s)!\n"
     ]
    }
   ],
   "source": [
    "inputs =[]\n",
    "\n",
    "print(\"Hello there, gamer! Ready to crack a puzzle? \\nYour goal in this game is to find the correct sequence of colors generated by the code\\nusing your superior deduction skills and just a little bit of guess work.\")\n",
    "print(\"After your guess for each attempt, you'll be able to see which colors from your input\\nmatched correctly, like this:\")\n",
    "plt.figure().set_figheight(2)\n",
    "plt.ylim(0.5,2.5)\n",
    "plt.xlim(0.5,4.5)\n",
    "plt.title('For example:\\nIf the color in the hidden sequence matches your guess, you cracked that color!', size = 20, style = 'oblique')\n",
    "\n",
    "plt.yticks([1,2],['Your guess','Hidden sequence'],fontsize=20)\n",
    "plt.xticks([1,2,3,4],['Color 1','Color 2','Color 3','Color 4'],fontsize=20)\n",
    "plt.scatter(1,1, s=2000, c = 'red')\n",
    "plt.scatter(2,1, s=2000, c = 'blue')\n",
    "plt.scatter(3,1, s=2000, c = 'yellow')\n",
    "plt.scatter(4,1, s=2000, c = 'green')\n",
    "plt.scatter(1,2, s=2000, c = 'red')\n",
    "plt.scatter(2,2, s=2000, c = 'black')\n",
    "plt.scatter(3,2, s=2000, c = 'black')\n",
    "plt.scatter(4,2, s=2000, c = 'green')\n",
    "plt.show()\n",
    "print(\"Don't worry, for every color you don't pick correctly, you'll get a hint. Each sequence has four items and is made of the following colors: red, yellow, green, and blue.\")\n",
    "print(\"Remember: a color can appear more than once in the same sequence and sometimes isn't involved in the correct sequence at all.\")\n",
    "print(\"Good luck!\")\n",
    "def plotColors(attemptNum):\n",
    "    \n",
    "    guess = None\n",
    "    \n",
    "    item = 0\n",
    "    print('------Attempt ', i+1, '------')\n",
    "    \n",
    "    while guess != 'red' and guess != 'blue' and guess != 'yellow' and guess != 'green' and item<len(rawSet):\n",
    "        print('Color ', item+1)\n",
    "        guess = input('Enter color: ')\n",
    "        if guess.islower() == False:\n",
    "            guess = guess.lower()\n",
    "        if guess != 'red' and guess != 'blue' and guess != 'yellow' and guess != 'green':\n",
    "            print('Oops! Looks like you either misspelled your color or entered a color outside of the choices given above. Try again!\\n')\n",
    "        else:\n",
    "            inputs.append(guess)\n",
    "            guess = None\n",
    "            item+=1\n",
    "        \n",
    "    k = 0\n",
    "    x = 1\n",
    "    plt.figure().set_figheight(2)\n",
    "    plt.ylim(0.5,2.5)\n",
    "    plt.xlim(0.5,4.5)\n",
    "    plt.title('If the color in the hidden sequence matches your guess, you cracked that color!',size = 15)\n",
    "    plt.yticks([1,2],['Your guess','Hidden sequence'],fontsize=20)\n",
    "    plt.xticks([1,2,3,4],['Color 1','Color 2','Color 3','Color 4'],fontsize=20)\n",
    "    for k in range(len(rawSet)):\n",
    "        if colorSet[k] == inputs[k]:\n",
    "            plt.scatter(x,2,s=2000, c=inputs[k])            \n",
    "            k+=1\n",
    "            x+=1\n",
    "        elif colorSet[k] != inputs[k]:\n",
    "            plt.scatter(x,2,s=2000, c='black')    \n",
    "            print('')\n",
    "            print('Hint:')\n",
    "            if inputs[k] in colorSet:\n",
    "                print('Color ', k+1,' exists in list, but in wrong place')\n",
    "            else:\n",
    "                print('Color ', k+1, ' does not exist in list')\n",
    "            k+=1\n",
    "            x+=1\n",
    "    plt.scatter(1,1, s=2000, c = inputs[0])\n",
    "    plt.scatter(2,1, s=2000, c = inputs[1])\n",
    "    plt.scatter(3,1, s=2000, c = inputs[2])\n",
    "    plt.scatter(4,1, s=2000, c = inputs[3])\n",
    "    plt.show()    \n",
    "    \n",
    "playerAttemptChoice = 0\n",
    "while playerAttemptChoice>15 or playerAttemptChoice<3:\n",
    "    playerAttemptChoice = int(input('How many attempts would you like to have? \\nThe least number of attempts you are allowed is 3 and the most is 15.\\nPlease do not spell out the number! Keep it as an integer.\\n'))\n",
    "    if playerAttemptChoice>15 or playerAttemptChoice<3:\n",
    "        print('Oops! Looks like you entered an invalid number of attempts. Please keep your choice between 3 and 15!') ## what if user enters a string?\n",
    "    else:\n",
    "        print('You have chosen', playerAttemptChoice, 'attempt(s)!')\n",
    "\n",
    "for i in range(playerAttemptChoice+1):\n",
    "    if i == playerAttemptChoice:\n",
    "        print('Oh no! You have used all of your attempts!')\n",
    "        lastQuest = input('Would you like to view the answer? Enter \"y\" or \"n\"\\n')\n",
    "        if lastQuest == 'y':\n",
    "            plt.figure().set_figheight(2)\n",
    "            plt.yticks([1],['Correct answer'],fontsize=20)\n",
    "            plt.ylim(0.5,1.5)\n",
    "            plt.xlim(0.5,4.5)\n",
    "            plt.xticks([1,2,3,4],['Color 1','Color 2','Color 3','Color 4'],fontsize=20)\n",
    "            plt.scatter(1,1, s=2000, c = colorSet[0])\n",
    "            plt.scatter(2,1, s=2000, c = colorSet[1])\n",
    "            plt.scatter(3,1, s=2000, c = colorSet[2])\n",
    "            plt.scatter(4,1, s=2000, c = colorSet[3])\n",
    "            plt.show()  \n",
    "            break\n",
    "        elif lastQuest == 'n':\n",
    "            print('Better luck next time!')\n",
    "            break\n",
    "        elif lastQuest != 'y' and lastQuest != 'n':\n",
    "            print('Invalid response')\n",
    "            break\n",
    "    plotColors(i)\n",
    "    if inputs != colorSet:\n",
    "        inputs.clear()\n",
    "        if i+3 == playerAttemptChoice:\n",
    "            print('Reminder: you have 2 attempts left!')\n",
    "        if i+2 == playerAttemptChoice:\n",
    "            print('Reminder: you have 1 attempt left!')\n",
    "        \n",
    "    elif inputs == colorSet:\n",
    "        print('Congratulations! You found the color sequence in ', i+1, 'attempt(s)!')\n",
    "        break"
   ]
  }
 ],
 "metadata": {
  "kernelspec": {
   "display_name": "Python 3 (ipykernel)",
   "language": "python",
   "name": "python3"
  },
  "language_info": {
   "codemirror_mode": {
    "name": "ipython",
    "version": 3
   },
   "file_extension": ".py",
   "mimetype": "text/x-python",
   "name": "python",
   "nbconvert_exporter": "python",
   "pygments_lexer": "ipython3",
   "version": "3.10.12"
  }
 },
 "nbformat": 4,
 "nbformat_minor": 5
}
